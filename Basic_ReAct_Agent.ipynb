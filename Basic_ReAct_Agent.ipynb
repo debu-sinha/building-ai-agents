{
  "nbformat": 4,
  "nbformat_minor": 0,
  "metadata": {
    "colab": {
      "provenance": [],
      "authorship_tag": "ABX9TyNGKzutrzc7Frc7LVjQ2B4e",
      "include_colab_link": true
    },
    "kernelspec": {
      "name": "python3",
      "display_name": "Python 3"
    },
    "language_info": {
      "name": "python"
    }
  },
  "cells": [
    {
      "cell_type": "markdown",
      "metadata": {
        "id": "view-in-github",
        "colab_type": "text"
      },
      "source": [
        "<a href=\"https://colab.research.google.com/github/debu-sinha/building-ai-agents/blob/main/Basic_ReAct_Agent.ipynb\" target=\"_parent\"><img src=\"https://colab.research.google.com/assets/colab-badge.svg\" alt=\"Open In Colab\"/></a>"
      ]
    },
    {
      "cell_type": "code",
      "execution_count": 2,
      "metadata": {
        "colab": {
          "base_uri": "https://localhost:8080/"
        },
        "id": "fk5hOt-iSpUt",
        "outputId": "eba4cd40-0aa6-41ec-d217-aecf620a6803"
      },
      "outputs": [
        {
          "output_type": "stream",
          "name": "stdout",
          "text": [
            "Requirement already satisfied: langchain in /usr/local/lib/python3.12/dist-packages (0.3.27)\n",
            "Requirement already satisfied: langchain-core<1.0.0,>=0.3.72 in /usr/local/lib/python3.12/dist-packages (from langchain) (0.3.75)\n",
            "Requirement already satisfied: langchain-text-splitters<1.0.0,>=0.3.9 in /usr/local/lib/python3.12/dist-packages (from langchain) (0.3.11)\n",
            "Requirement already satisfied: langsmith>=0.1.17 in /usr/local/lib/python3.12/dist-packages (from langchain) (0.4.23)\n",
            "Requirement already satisfied: pydantic<3.0.0,>=2.7.4 in /usr/local/lib/python3.12/dist-packages (from langchain) (2.11.7)\n",
            "Requirement already satisfied: SQLAlchemy<3,>=1.4 in /usr/local/lib/python3.12/dist-packages (from langchain) (2.0.43)\n",
            "Requirement already satisfied: requests<3,>=2 in /usr/local/lib/python3.12/dist-packages (from langchain) (2.32.5)\n",
            "Requirement already satisfied: PyYAML>=5.3 in /usr/local/lib/python3.12/dist-packages (from langchain) (6.0.2)\n",
            "Requirement already satisfied: tenacity!=8.4.0,<10.0.0,>=8.1.0 in /usr/local/lib/python3.12/dist-packages (from langchain-core<1.0.0,>=0.3.72->langchain) (8.5.0)\n",
            "Requirement already satisfied: jsonpatch<2.0,>=1.33 in /usr/local/lib/python3.12/dist-packages (from langchain-core<1.0.0,>=0.3.72->langchain) (1.33)\n",
            "Requirement already satisfied: typing-extensions>=4.7 in /usr/local/lib/python3.12/dist-packages (from langchain-core<1.0.0,>=0.3.72->langchain) (4.15.0)\n",
            "Requirement already satisfied: packaging>=23.2 in /usr/local/lib/python3.12/dist-packages (from langchain-core<1.0.0,>=0.3.72->langchain) (25.0)\n",
            "Requirement already satisfied: httpx<1,>=0.23.0 in /usr/local/lib/python3.12/dist-packages (from langsmith>=0.1.17->langchain) (0.28.1)\n",
            "Requirement already satisfied: orjson>=3.9.14 in /usr/local/lib/python3.12/dist-packages (from langsmith>=0.1.17->langchain) (3.11.3)\n",
            "Requirement already satisfied: requests-toolbelt>=1.0.0 in /usr/local/lib/python3.12/dist-packages (from langsmith>=0.1.17->langchain) (1.0.0)\n",
            "Requirement already satisfied: zstandard>=0.23.0 in /usr/local/lib/python3.12/dist-packages (from langsmith>=0.1.17->langchain) (0.24.0)\n",
            "Requirement already satisfied: annotated-types>=0.6.0 in /usr/local/lib/python3.12/dist-packages (from pydantic<3.0.0,>=2.7.4->langchain) (0.7.0)\n",
            "Requirement already satisfied: pydantic-core==2.33.2 in /usr/local/lib/python3.12/dist-packages (from pydantic<3.0.0,>=2.7.4->langchain) (2.33.2)\n",
            "Requirement already satisfied: typing-inspection>=0.4.0 in /usr/local/lib/python3.12/dist-packages (from pydantic<3.0.0,>=2.7.4->langchain) (0.4.1)\n",
            "Requirement already satisfied: charset_normalizer<4,>=2 in /usr/local/lib/python3.12/dist-packages (from requests<3,>=2->langchain) (3.4.3)\n",
            "Requirement already satisfied: idna<4,>=2.5 in /usr/local/lib/python3.12/dist-packages (from requests<3,>=2->langchain) (3.10)\n",
            "Requirement already satisfied: urllib3<3,>=1.21.1 in /usr/local/lib/python3.12/dist-packages (from requests<3,>=2->langchain) (2.5.0)\n",
            "Requirement already satisfied: certifi>=2017.4.17 in /usr/local/lib/python3.12/dist-packages (from requests<3,>=2->langchain) (2025.8.3)\n",
            "Requirement already satisfied: greenlet>=1 in /usr/local/lib/python3.12/dist-packages (from SQLAlchemy<3,>=1.4->langchain) (3.2.4)\n",
            "Requirement already satisfied: anyio in /usr/local/lib/python3.12/dist-packages (from httpx<1,>=0.23.0->langsmith>=0.1.17->langchain) (4.10.0)\n",
            "Requirement already satisfied: httpcore==1.* in /usr/local/lib/python3.12/dist-packages (from httpx<1,>=0.23.0->langsmith>=0.1.17->langchain) (1.0.9)\n",
            "Requirement already satisfied: h11>=0.16 in /usr/local/lib/python3.12/dist-packages (from httpcore==1.*->httpx<1,>=0.23.0->langsmith>=0.1.17->langchain) (0.16.0)\n",
            "Requirement already satisfied: jsonpointer>=1.9 in /usr/local/lib/python3.12/dist-packages (from jsonpatch<2.0,>=1.33->langchain-core<1.0.0,>=0.3.72->langchain) (3.0.0)\n",
            "Requirement already satisfied: sniffio>=1.1 in /usr/local/lib/python3.12/dist-packages (from anyio->httpx<1,>=0.23.0->langsmith>=0.1.17->langchain) (1.3.1)\n",
            "Requirement already satisfied: langchain-openai in /usr/local/lib/python3.12/dist-packages (0.3.32)\n",
            "Requirement already satisfied: langchain-core<1.0.0,>=0.3.74 in /usr/local/lib/python3.12/dist-packages (from langchain-openai) (0.3.75)\n",
            "Requirement already satisfied: openai<2.0.0,>=1.99.9 in /usr/local/lib/python3.12/dist-packages (from langchain-openai) (1.104.2)\n",
            "Requirement already satisfied: tiktoken<1,>=0.7 in /usr/local/lib/python3.12/dist-packages (from langchain-openai) (0.11.0)\n",
            "Requirement already satisfied: langsmith>=0.3.45 in /usr/local/lib/python3.12/dist-packages (from langchain-core<1.0.0,>=0.3.74->langchain-openai) (0.4.23)\n",
            "Requirement already satisfied: tenacity!=8.4.0,<10.0.0,>=8.1.0 in /usr/local/lib/python3.12/dist-packages (from langchain-core<1.0.0,>=0.3.74->langchain-openai) (8.5.0)\n",
            "Requirement already satisfied: jsonpatch<2.0,>=1.33 in /usr/local/lib/python3.12/dist-packages (from langchain-core<1.0.0,>=0.3.74->langchain-openai) (1.33)\n",
            "Requirement already satisfied: PyYAML>=5.3 in /usr/local/lib/python3.12/dist-packages (from langchain-core<1.0.0,>=0.3.74->langchain-openai) (6.0.2)\n",
            "Requirement already satisfied: typing-extensions>=4.7 in /usr/local/lib/python3.12/dist-packages (from langchain-core<1.0.0,>=0.3.74->langchain-openai) (4.15.0)\n",
            "Requirement already satisfied: packaging>=23.2 in /usr/local/lib/python3.12/dist-packages (from langchain-core<1.0.0,>=0.3.74->langchain-openai) (25.0)\n",
            "Requirement already satisfied: pydantic>=2.7.4 in /usr/local/lib/python3.12/dist-packages (from langchain-core<1.0.0,>=0.3.74->langchain-openai) (2.11.7)\n",
            "Requirement already satisfied: anyio<5,>=3.5.0 in /usr/local/lib/python3.12/dist-packages (from openai<2.0.0,>=1.99.9->langchain-openai) (4.10.0)\n",
            "Requirement already satisfied: distro<2,>=1.7.0 in /usr/local/lib/python3.12/dist-packages (from openai<2.0.0,>=1.99.9->langchain-openai) (1.9.0)\n",
            "Requirement already satisfied: httpx<1,>=0.23.0 in /usr/local/lib/python3.12/dist-packages (from openai<2.0.0,>=1.99.9->langchain-openai) (0.28.1)\n",
            "Requirement already satisfied: jiter<1,>=0.4.0 in /usr/local/lib/python3.12/dist-packages (from openai<2.0.0,>=1.99.9->langchain-openai) (0.10.0)\n",
            "Requirement already satisfied: sniffio in /usr/local/lib/python3.12/dist-packages (from openai<2.0.0,>=1.99.9->langchain-openai) (1.3.1)\n",
            "Requirement already satisfied: tqdm>4 in /usr/local/lib/python3.12/dist-packages (from openai<2.0.0,>=1.99.9->langchain-openai) (4.67.1)\n",
            "Requirement already satisfied: regex>=2022.1.18 in /usr/local/lib/python3.12/dist-packages (from tiktoken<1,>=0.7->langchain-openai) (2024.11.6)\n",
            "Requirement already satisfied: requests>=2.26.0 in /usr/local/lib/python3.12/dist-packages (from tiktoken<1,>=0.7->langchain-openai) (2.32.5)\n",
            "Requirement already satisfied: idna>=2.8 in /usr/local/lib/python3.12/dist-packages (from anyio<5,>=3.5.0->openai<2.0.0,>=1.99.9->langchain-openai) (3.10)\n",
            "Requirement already satisfied: certifi in /usr/local/lib/python3.12/dist-packages (from httpx<1,>=0.23.0->openai<2.0.0,>=1.99.9->langchain-openai) (2025.8.3)\n",
            "Requirement already satisfied: httpcore==1.* in /usr/local/lib/python3.12/dist-packages (from httpx<1,>=0.23.0->openai<2.0.0,>=1.99.9->langchain-openai) (1.0.9)\n",
            "Requirement already satisfied: h11>=0.16 in /usr/local/lib/python3.12/dist-packages (from httpcore==1.*->httpx<1,>=0.23.0->openai<2.0.0,>=1.99.9->langchain-openai) (0.16.0)\n",
            "Requirement already satisfied: jsonpointer>=1.9 in /usr/local/lib/python3.12/dist-packages (from jsonpatch<2.0,>=1.33->langchain-core<1.0.0,>=0.3.74->langchain-openai) (3.0.0)\n",
            "Requirement already satisfied: orjson>=3.9.14 in /usr/local/lib/python3.12/dist-packages (from langsmith>=0.3.45->langchain-core<1.0.0,>=0.3.74->langchain-openai) (3.11.3)\n",
            "Requirement already satisfied: requests-toolbelt>=1.0.0 in /usr/local/lib/python3.12/dist-packages (from langsmith>=0.3.45->langchain-core<1.0.0,>=0.3.74->langchain-openai) (1.0.0)\n",
            "Requirement already satisfied: zstandard>=0.23.0 in /usr/local/lib/python3.12/dist-packages (from langsmith>=0.3.45->langchain-core<1.0.0,>=0.3.74->langchain-openai) (0.24.0)\n",
            "Requirement already satisfied: annotated-types>=0.6.0 in /usr/local/lib/python3.12/dist-packages (from pydantic>=2.7.4->langchain-core<1.0.0,>=0.3.74->langchain-openai) (0.7.0)\n",
            "Requirement already satisfied: pydantic-core==2.33.2 in /usr/local/lib/python3.12/dist-packages (from pydantic>=2.7.4->langchain-core<1.0.0,>=0.3.74->langchain-openai) (2.33.2)\n",
            "Requirement already satisfied: typing-inspection>=0.4.0 in /usr/local/lib/python3.12/dist-packages (from pydantic>=2.7.4->langchain-core<1.0.0,>=0.3.74->langchain-openai) (0.4.1)\n",
            "Requirement already satisfied: charset_normalizer<4,>=2 in /usr/local/lib/python3.12/dist-packages (from requests>=2.26.0->tiktoken<1,>=0.7->langchain-openai) (3.4.3)\n",
            "Requirement already satisfied: urllib3<3,>=1.21.1 in /usr/local/lib/python3.12/dist-packages (from requests>=2.26.0->tiktoken<1,>=0.7->langchain-openai) (2.5.0)\n",
            "Requirement already satisfied: langchain_community in /usr/local/lib/python3.12/dist-packages (0.3.29)\n",
            "Requirement already satisfied: langchain-core<2.0.0,>=0.3.75 in /usr/local/lib/python3.12/dist-packages (from langchain_community) (0.3.75)\n",
            "Requirement already satisfied: langchain<2.0.0,>=0.3.27 in /usr/local/lib/python3.12/dist-packages (from langchain_community) (0.3.27)\n",
            "Requirement already satisfied: SQLAlchemy<3,>=1.4 in /usr/local/lib/python3.12/dist-packages (from langchain_community) (2.0.43)\n",
            "Requirement already satisfied: requests<3,>=2.32.5 in /usr/local/lib/python3.12/dist-packages (from langchain_community) (2.32.5)\n",
            "Requirement already satisfied: PyYAML>=5.3 in /usr/local/lib/python3.12/dist-packages (from langchain_community) (6.0.2)\n",
            "Requirement already satisfied: aiohttp<4.0.0,>=3.8.3 in /usr/local/lib/python3.12/dist-packages (from langchain_community) (3.12.15)\n",
            "Requirement already satisfied: tenacity!=8.4.0,<10,>=8.1.0 in /usr/local/lib/python3.12/dist-packages (from langchain_community) (8.5.0)\n",
            "Requirement already satisfied: dataclasses-json<0.7,>=0.6.7 in /usr/local/lib/python3.12/dist-packages (from langchain_community) (0.6.7)\n",
            "Requirement already satisfied: pydantic-settings<3.0.0,>=2.10.1 in /usr/local/lib/python3.12/dist-packages (from langchain_community) (2.10.1)\n",
            "Requirement already satisfied: langsmith>=0.1.125 in /usr/local/lib/python3.12/dist-packages (from langchain_community) (0.4.23)\n",
            "Requirement already satisfied: httpx-sse<1.0.0,>=0.4.0 in /usr/local/lib/python3.12/dist-packages (from langchain_community) (0.4.1)\n",
            "Requirement already satisfied: numpy>=1.26.2 in /usr/local/lib/python3.12/dist-packages (from langchain_community) (2.0.2)\n",
            "Requirement already satisfied: aiohappyeyeballs>=2.5.0 in /usr/local/lib/python3.12/dist-packages (from aiohttp<4.0.0,>=3.8.3->langchain_community) (2.6.1)\n",
            "Requirement already satisfied: aiosignal>=1.4.0 in /usr/local/lib/python3.12/dist-packages (from aiohttp<4.0.0,>=3.8.3->langchain_community) (1.4.0)\n",
            "Requirement already satisfied: attrs>=17.3.0 in /usr/local/lib/python3.12/dist-packages (from aiohttp<4.0.0,>=3.8.3->langchain_community) (25.3.0)\n",
            "Requirement already satisfied: frozenlist>=1.1.1 in /usr/local/lib/python3.12/dist-packages (from aiohttp<4.0.0,>=3.8.3->langchain_community) (1.7.0)\n",
            "Requirement already satisfied: multidict<7.0,>=4.5 in /usr/local/lib/python3.12/dist-packages (from aiohttp<4.0.0,>=3.8.3->langchain_community) (6.6.4)\n",
            "Requirement already satisfied: propcache>=0.2.0 in /usr/local/lib/python3.12/dist-packages (from aiohttp<4.0.0,>=3.8.3->langchain_community) (0.3.2)\n",
            "Requirement already satisfied: yarl<2.0,>=1.17.0 in /usr/local/lib/python3.12/dist-packages (from aiohttp<4.0.0,>=3.8.3->langchain_community) (1.20.1)\n",
            "Requirement already satisfied: marshmallow<4.0.0,>=3.18.0 in /usr/local/lib/python3.12/dist-packages (from dataclasses-json<0.7,>=0.6.7->langchain_community) (3.26.1)\n",
            "Requirement already satisfied: typing-inspect<1,>=0.4.0 in /usr/local/lib/python3.12/dist-packages (from dataclasses-json<0.7,>=0.6.7->langchain_community) (0.9.0)\n",
            "Requirement already satisfied: langchain-text-splitters<1.0.0,>=0.3.9 in /usr/local/lib/python3.12/dist-packages (from langchain<2.0.0,>=0.3.27->langchain_community) (0.3.11)\n",
            "Requirement already satisfied: pydantic<3.0.0,>=2.7.4 in /usr/local/lib/python3.12/dist-packages (from langchain<2.0.0,>=0.3.27->langchain_community) (2.11.7)\n",
            "Requirement already satisfied: jsonpatch<2.0,>=1.33 in /usr/local/lib/python3.12/dist-packages (from langchain-core<2.0.0,>=0.3.75->langchain_community) (1.33)\n",
            "Requirement already satisfied: typing-extensions>=4.7 in /usr/local/lib/python3.12/dist-packages (from langchain-core<2.0.0,>=0.3.75->langchain_community) (4.15.0)\n",
            "Requirement already satisfied: packaging>=23.2 in /usr/local/lib/python3.12/dist-packages (from langchain-core<2.0.0,>=0.3.75->langchain_community) (25.0)\n",
            "Requirement already satisfied: httpx<1,>=0.23.0 in /usr/local/lib/python3.12/dist-packages (from langsmith>=0.1.125->langchain_community) (0.28.1)\n",
            "Requirement already satisfied: orjson>=3.9.14 in /usr/local/lib/python3.12/dist-packages (from langsmith>=0.1.125->langchain_community) (3.11.3)\n",
            "Requirement already satisfied: requests-toolbelt>=1.0.0 in /usr/local/lib/python3.12/dist-packages (from langsmith>=0.1.125->langchain_community) (1.0.0)\n",
            "Requirement already satisfied: zstandard>=0.23.0 in /usr/local/lib/python3.12/dist-packages (from langsmith>=0.1.125->langchain_community) (0.24.0)\n",
            "Requirement already satisfied: python-dotenv>=0.21.0 in /usr/local/lib/python3.12/dist-packages (from pydantic-settings<3.0.0,>=2.10.1->langchain_community) (1.1.1)\n",
            "Requirement already satisfied: typing-inspection>=0.4.0 in /usr/local/lib/python3.12/dist-packages (from pydantic-settings<3.0.0,>=2.10.1->langchain_community) (0.4.1)\n",
            "Requirement already satisfied: charset_normalizer<4,>=2 in /usr/local/lib/python3.12/dist-packages (from requests<3,>=2.32.5->langchain_community) (3.4.3)\n",
            "Requirement already satisfied: idna<4,>=2.5 in /usr/local/lib/python3.12/dist-packages (from requests<3,>=2.32.5->langchain_community) (3.10)\n",
            "Requirement already satisfied: urllib3<3,>=1.21.1 in /usr/local/lib/python3.12/dist-packages (from requests<3,>=2.32.5->langchain_community) (2.5.0)\n",
            "Requirement already satisfied: certifi>=2017.4.17 in /usr/local/lib/python3.12/dist-packages (from requests<3,>=2.32.5->langchain_community) (2025.8.3)\n",
            "Requirement already satisfied: greenlet>=1 in /usr/local/lib/python3.12/dist-packages (from SQLAlchemy<3,>=1.4->langchain_community) (3.2.4)\n",
            "Requirement already satisfied: anyio in /usr/local/lib/python3.12/dist-packages (from httpx<1,>=0.23.0->langsmith>=0.1.125->langchain_community) (4.10.0)\n",
            "Requirement already satisfied: httpcore==1.* in /usr/local/lib/python3.12/dist-packages (from httpx<1,>=0.23.0->langsmith>=0.1.125->langchain_community) (1.0.9)\n",
            "Requirement already satisfied: h11>=0.16 in /usr/local/lib/python3.12/dist-packages (from httpcore==1.*->httpx<1,>=0.23.0->langsmith>=0.1.125->langchain_community) (0.16.0)\n",
            "Requirement already satisfied: jsonpointer>=1.9 in /usr/local/lib/python3.12/dist-packages (from jsonpatch<2.0,>=1.33->langchain-core<2.0.0,>=0.3.75->langchain_community) (3.0.0)\n",
            "Requirement already satisfied: annotated-types>=0.6.0 in /usr/local/lib/python3.12/dist-packages (from pydantic<3.0.0,>=2.7.4->langchain<2.0.0,>=0.3.27->langchain_community) (0.7.0)\n",
            "Requirement already satisfied: pydantic-core==2.33.2 in /usr/local/lib/python3.12/dist-packages (from pydantic<3.0.0,>=2.7.4->langchain<2.0.0,>=0.3.27->langchain_community) (2.33.2)\n",
            "Requirement already satisfied: mypy-extensions>=0.3.0 in /usr/local/lib/python3.12/dist-packages (from typing-inspect<1,>=0.4.0->dataclasses-json<0.7,>=0.6.7->langchain_community) (1.1.0)\n",
            "Requirement already satisfied: sniffio>=1.1 in /usr/local/lib/python3.12/dist-packages (from anyio->httpx<1,>=0.23.0->langsmith>=0.1.125->langchain_community) (1.3.1)\n",
            "Requirement already satisfied: langchain_chroma in /usr/local/lib/python3.12/dist-packages (0.2.5)\n",
            "Requirement already satisfied: langchain-core>=0.3.70 in /usr/local/lib/python3.12/dist-packages (from langchain_chroma) (0.3.75)\n",
            "Requirement already satisfied: numpy>=1.26.0 in /usr/local/lib/python3.12/dist-packages (from langchain_chroma) (2.0.2)\n",
            "Requirement already satisfied: chromadb>=1.0.9 in /usr/local/lib/python3.12/dist-packages (from langchain_chroma) (1.0.20)\n",
            "Requirement already satisfied: build>=1.0.3 in /usr/local/lib/python3.12/dist-packages (from chromadb>=1.0.9->langchain_chroma) (1.3.0)\n",
            "Requirement already satisfied: pydantic>=1.9 in /usr/local/lib/python3.12/dist-packages (from chromadb>=1.0.9->langchain_chroma) (2.11.7)\n",
            "Requirement already satisfied: pybase64>=1.4.1 in /usr/local/lib/python3.12/dist-packages (from chromadb>=1.0.9->langchain_chroma) (1.4.2)\n",
            "Requirement already satisfied: uvicorn>=0.18.3 in /usr/local/lib/python3.12/dist-packages (from uvicorn[standard]>=0.18.3->chromadb>=1.0.9->langchain_chroma) (0.35.0)\n",
            "Requirement already satisfied: posthog<6.0.0,>=2.4.0 in /usr/local/lib/python3.12/dist-packages (from chromadb>=1.0.9->langchain_chroma) (5.4.0)\n",
            "Requirement already satisfied: typing-extensions>=4.5.0 in /usr/local/lib/python3.12/dist-packages (from chromadb>=1.0.9->langchain_chroma) (4.15.0)\n",
            "Requirement already satisfied: onnxruntime>=1.14.1 in /usr/local/lib/python3.12/dist-packages (from chromadb>=1.0.9->langchain_chroma) (1.22.1)\n",
            "Requirement already satisfied: opentelemetry-api>=1.2.0 in /usr/local/lib/python3.12/dist-packages (from chromadb>=1.0.9->langchain_chroma) (1.36.0)\n",
            "Requirement already satisfied: opentelemetry-exporter-otlp-proto-grpc>=1.2.0 in /usr/local/lib/python3.12/dist-packages (from chromadb>=1.0.9->langchain_chroma) (1.36.0)\n",
            "Requirement already satisfied: opentelemetry-sdk>=1.2.0 in /usr/local/lib/python3.12/dist-packages (from chromadb>=1.0.9->langchain_chroma) (1.36.0)\n",
            "Requirement already satisfied: tokenizers>=0.13.2 in /usr/local/lib/python3.12/dist-packages (from chromadb>=1.0.9->langchain_chroma) (0.22.0)\n",
            "Requirement already satisfied: pypika>=0.48.9 in /usr/local/lib/python3.12/dist-packages (from chromadb>=1.0.9->langchain_chroma) (0.48.9)\n",
            "Requirement already satisfied: tqdm>=4.65.0 in /usr/local/lib/python3.12/dist-packages (from chromadb>=1.0.9->langchain_chroma) (4.67.1)\n",
            "Requirement already satisfied: overrides>=7.3.1 in /usr/local/lib/python3.12/dist-packages (from chromadb>=1.0.9->langchain_chroma) (7.7.0)\n",
            "Requirement already satisfied: importlib-resources in /usr/local/lib/python3.12/dist-packages (from chromadb>=1.0.9->langchain_chroma) (6.5.2)\n",
            "Requirement already satisfied: grpcio>=1.58.0 in /usr/local/lib/python3.12/dist-packages (from chromadb>=1.0.9->langchain_chroma) (1.74.0)\n",
            "Requirement already satisfied: bcrypt>=4.0.1 in /usr/local/lib/python3.12/dist-packages (from chromadb>=1.0.9->langchain_chroma) (4.3.0)\n",
            "Requirement already satisfied: typer>=0.9.0 in /usr/local/lib/python3.12/dist-packages (from chromadb>=1.0.9->langchain_chroma) (0.17.3)\n",
            "Requirement already satisfied: kubernetes>=28.1.0 in /usr/local/lib/python3.12/dist-packages (from chromadb>=1.0.9->langchain_chroma) (33.1.0)\n",
            "Requirement already satisfied: tenacity>=8.2.3 in /usr/local/lib/python3.12/dist-packages (from chromadb>=1.0.9->langchain_chroma) (8.5.0)\n",
            "Requirement already satisfied: pyyaml>=6.0.0 in /usr/local/lib/python3.12/dist-packages (from chromadb>=1.0.9->langchain_chroma) (6.0.2)\n",
            "Requirement already satisfied: mmh3>=4.0.1 in /usr/local/lib/python3.12/dist-packages (from chromadb>=1.0.9->langchain_chroma) (5.2.0)\n",
            "Requirement already satisfied: orjson>=3.9.12 in /usr/local/lib/python3.12/dist-packages (from chromadb>=1.0.9->langchain_chroma) (3.11.3)\n",
            "Requirement already satisfied: httpx>=0.27.0 in /usr/local/lib/python3.12/dist-packages (from chromadb>=1.0.9->langchain_chroma) (0.28.1)\n",
            "Requirement already satisfied: rich>=10.11.0 in /usr/local/lib/python3.12/dist-packages (from chromadb>=1.0.9->langchain_chroma) (13.9.4)\n",
            "Requirement already satisfied: jsonschema>=4.19.0 in /usr/local/lib/python3.12/dist-packages (from chromadb>=1.0.9->langchain_chroma) (4.25.1)\n",
            "Requirement already satisfied: langsmith>=0.3.45 in /usr/local/lib/python3.12/dist-packages (from langchain-core>=0.3.70->langchain_chroma) (0.4.23)\n",
            "Requirement already satisfied: jsonpatch<2.0,>=1.33 in /usr/local/lib/python3.12/dist-packages (from langchain-core>=0.3.70->langchain_chroma) (1.33)\n",
            "Requirement already satisfied: packaging>=23.2 in /usr/local/lib/python3.12/dist-packages (from langchain-core>=0.3.70->langchain_chroma) (25.0)\n",
            "Requirement already satisfied: pyproject_hooks in /usr/local/lib/python3.12/dist-packages (from build>=1.0.3->chromadb>=1.0.9->langchain_chroma) (1.2.0)\n",
            "Requirement already satisfied: anyio in /usr/local/lib/python3.12/dist-packages (from httpx>=0.27.0->chromadb>=1.0.9->langchain_chroma) (4.10.0)\n",
            "Requirement already satisfied: certifi in /usr/local/lib/python3.12/dist-packages (from httpx>=0.27.0->chromadb>=1.0.9->langchain_chroma) (2025.8.3)\n",
            "Requirement already satisfied: httpcore==1.* in /usr/local/lib/python3.12/dist-packages (from httpx>=0.27.0->chromadb>=1.0.9->langchain_chroma) (1.0.9)\n",
            "Requirement already satisfied: idna in /usr/local/lib/python3.12/dist-packages (from httpx>=0.27.0->chromadb>=1.0.9->langchain_chroma) (3.10)\n",
            "Requirement already satisfied: h11>=0.16 in /usr/local/lib/python3.12/dist-packages (from httpcore==1.*->httpx>=0.27.0->chromadb>=1.0.9->langchain_chroma) (0.16.0)\n",
            "Requirement already satisfied: jsonpointer>=1.9 in /usr/local/lib/python3.12/dist-packages (from jsonpatch<2.0,>=1.33->langchain-core>=0.3.70->langchain_chroma) (3.0.0)\n",
            "Requirement already satisfied: attrs>=22.2.0 in /usr/local/lib/python3.12/dist-packages (from jsonschema>=4.19.0->chromadb>=1.0.9->langchain_chroma) (25.3.0)\n",
            "Requirement already satisfied: jsonschema-specifications>=2023.03.6 in /usr/local/lib/python3.12/dist-packages (from jsonschema>=4.19.0->chromadb>=1.0.9->langchain_chroma) (2025.4.1)\n",
            "Requirement already satisfied: referencing>=0.28.4 in /usr/local/lib/python3.12/dist-packages (from jsonschema>=4.19.0->chromadb>=1.0.9->langchain_chroma) (0.36.2)\n",
            "Requirement already satisfied: rpds-py>=0.7.1 in /usr/local/lib/python3.12/dist-packages (from jsonschema>=4.19.0->chromadb>=1.0.9->langchain_chroma) (0.27.1)\n",
            "Requirement already satisfied: six>=1.9.0 in /usr/local/lib/python3.12/dist-packages (from kubernetes>=28.1.0->chromadb>=1.0.9->langchain_chroma) (1.17.0)\n",
            "Requirement already satisfied: python-dateutil>=2.5.3 in /usr/local/lib/python3.12/dist-packages (from kubernetes>=28.1.0->chromadb>=1.0.9->langchain_chroma) (2.9.0.post0)\n",
            "Requirement already satisfied: google-auth>=1.0.1 in /usr/local/lib/python3.12/dist-packages (from kubernetes>=28.1.0->chromadb>=1.0.9->langchain_chroma) (2.38.0)\n",
            "Requirement already satisfied: websocket-client!=0.40.0,!=0.41.*,!=0.42.*,>=0.32.0 in /usr/local/lib/python3.12/dist-packages (from kubernetes>=28.1.0->chromadb>=1.0.9->langchain_chroma) (1.8.0)\n",
            "Requirement already satisfied: requests in /usr/local/lib/python3.12/dist-packages (from kubernetes>=28.1.0->chromadb>=1.0.9->langchain_chroma) (2.32.5)\n",
            "Requirement already satisfied: requests-oauthlib in /usr/local/lib/python3.12/dist-packages (from kubernetes>=28.1.0->chromadb>=1.0.9->langchain_chroma) (2.0.0)\n",
            "Requirement already satisfied: oauthlib>=3.2.2 in /usr/local/lib/python3.12/dist-packages (from kubernetes>=28.1.0->chromadb>=1.0.9->langchain_chroma) (3.3.1)\n",
            "Requirement already satisfied: urllib3>=1.24.2 in /usr/local/lib/python3.12/dist-packages (from kubernetes>=28.1.0->chromadb>=1.0.9->langchain_chroma) (2.5.0)\n",
            "Requirement already satisfied: durationpy>=0.7 in /usr/local/lib/python3.12/dist-packages (from kubernetes>=28.1.0->chromadb>=1.0.9->langchain_chroma) (0.10)\n",
            "Requirement already satisfied: requests-toolbelt>=1.0.0 in /usr/local/lib/python3.12/dist-packages (from langsmith>=0.3.45->langchain-core>=0.3.70->langchain_chroma) (1.0.0)\n",
            "Requirement already satisfied: zstandard>=0.23.0 in /usr/local/lib/python3.12/dist-packages (from langsmith>=0.3.45->langchain-core>=0.3.70->langchain_chroma) (0.24.0)\n",
            "Requirement already satisfied: coloredlogs in /usr/local/lib/python3.12/dist-packages (from onnxruntime>=1.14.1->chromadb>=1.0.9->langchain_chroma) (15.0.1)\n",
            "Requirement already satisfied: flatbuffers in /usr/local/lib/python3.12/dist-packages (from onnxruntime>=1.14.1->chromadb>=1.0.9->langchain_chroma) (25.2.10)\n",
            "Requirement already satisfied: protobuf in /usr/local/lib/python3.12/dist-packages (from onnxruntime>=1.14.1->chromadb>=1.0.9->langchain_chroma) (5.29.5)\n",
            "Requirement already satisfied: sympy in /usr/local/lib/python3.12/dist-packages (from onnxruntime>=1.14.1->chromadb>=1.0.9->langchain_chroma) (1.13.3)\n",
            "Requirement already satisfied: importlib-metadata<8.8.0,>=6.0 in /usr/local/lib/python3.12/dist-packages (from opentelemetry-api>=1.2.0->chromadb>=1.0.9->langchain_chroma) (8.7.0)\n",
            "Requirement already satisfied: googleapis-common-protos~=1.57 in /usr/local/lib/python3.12/dist-packages (from opentelemetry-exporter-otlp-proto-grpc>=1.2.0->chromadb>=1.0.9->langchain_chroma) (1.70.0)\n",
            "Requirement already satisfied: opentelemetry-exporter-otlp-proto-common==1.36.0 in /usr/local/lib/python3.12/dist-packages (from opentelemetry-exporter-otlp-proto-grpc>=1.2.0->chromadb>=1.0.9->langchain_chroma) (1.36.0)\n",
            "Requirement already satisfied: opentelemetry-proto==1.36.0 in /usr/local/lib/python3.12/dist-packages (from opentelemetry-exporter-otlp-proto-grpc>=1.2.0->chromadb>=1.0.9->langchain_chroma) (1.36.0)\n",
            "Requirement already satisfied: opentelemetry-semantic-conventions==0.57b0 in /usr/local/lib/python3.12/dist-packages (from opentelemetry-sdk>=1.2.0->chromadb>=1.0.9->langchain_chroma) (0.57b0)\n",
            "Requirement already satisfied: backoff>=1.10.0 in /usr/local/lib/python3.12/dist-packages (from posthog<6.0.0,>=2.4.0->chromadb>=1.0.9->langchain_chroma) (2.2.1)\n",
            "Requirement already satisfied: distro>=1.5.0 in /usr/local/lib/python3.12/dist-packages (from posthog<6.0.0,>=2.4.0->chromadb>=1.0.9->langchain_chroma) (1.9.0)\n",
            "Requirement already satisfied: annotated-types>=0.6.0 in /usr/local/lib/python3.12/dist-packages (from pydantic>=1.9->chromadb>=1.0.9->langchain_chroma) (0.7.0)\n",
            "Requirement already satisfied: pydantic-core==2.33.2 in /usr/local/lib/python3.12/dist-packages (from pydantic>=1.9->chromadb>=1.0.9->langchain_chroma) (2.33.2)\n",
            "Requirement already satisfied: typing-inspection>=0.4.0 in /usr/local/lib/python3.12/dist-packages (from pydantic>=1.9->chromadb>=1.0.9->langchain_chroma) (0.4.1)\n",
            "Requirement already satisfied: markdown-it-py>=2.2.0 in /usr/local/lib/python3.12/dist-packages (from rich>=10.11.0->chromadb>=1.0.9->langchain_chroma) (4.0.0)\n",
            "Requirement already satisfied: pygments<3.0.0,>=2.13.0 in /usr/local/lib/python3.12/dist-packages (from rich>=10.11.0->chromadb>=1.0.9->langchain_chroma) (2.19.2)\n",
            "Requirement already satisfied: huggingface-hub<1.0,>=0.16.4 in /usr/local/lib/python3.12/dist-packages (from tokenizers>=0.13.2->chromadb>=1.0.9->langchain_chroma) (0.34.4)\n",
            "Requirement already satisfied: click>=8.0.0 in /usr/local/lib/python3.12/dist-packages (from typer>=0.9.0->chromadb>=1.0.9->langchain_chroma) (8.2.1)\n",
            "Requirement already satisfied: shellingham>=1.3.0 in /usr/local/lib/python3.12/dist-packages (from typer>=0.9.0->chromadb>=1.0.9->langchain_chroma) (1.5.4)\n",
            "Requirement already satisfied: httptools>=0.6.3 in /usr/local/lib/python3.12/dist-packages (from uvicorn[standard]>=0.18.3->chromadb>=1.0.9->langchain_chroma) (0.6.4)\n",
            "Requirement already satisfied: python-dotenv>=0.13 in /usr/local/lib/python3.12/dist-packages (from uvicorn[standard]>=0.18.3->chromadb>=1.0.9->langchain_chroma) (1.1.1)\n",
            "Requirement already satisfied: uvloop>=0.15.1 in /usr/local/lib/python3.12/dist-packages (from uvicorn[standard]>=0.18.3->chromadb>=1.0.9->langchain_chroma) (0.21.0)\n",
            "Requirement already satisfied: watchfiles>=0.13 in /usr/local/lib/python3.12/dist-packages (from uvicorn[standard]>=0.18.3->chromadb>=1.0.9->langchain_chroma) (1.1.0)\n",
            "Requirement already satisfied: websockets>=10.4 in /usr/local/lib/python3.12/dist-packages (from uvicorn[standard]>=0.18.3->chromadb>=1.0.9->langchain_chroma) (15.0.1)\n",
            "Requirement already satisfied: cachetools<6.0,>=2.0.0 in /usr/local/lib/python3.12/dist-packages (from google-auth>=1.0.1->kubernetes>=28.1.0->chromadb>=1.0.9->langchain_chroma) (5.5.2)\n",
            "Requirement already satisfied: pyasn1-modules>=0.2.1 in /usr/local/lib/python3.12/dist-packages (from google-auth>=1.0.1->kubernetes>=28.1.0->chromadb>=1.0.9->langchain_chroma) (0.4.2)\n",
            "Requirement already satisfied: rsa<5,>=3.1.4 in /usr/local/lib/python3.12/dist-packages (from google-auth>=1.0.1->kubernetes>=28.1.0->chromadb>=1.0.9->langchain_chroma) (4.9.1)\n",
            "Requirement already satisfied: filelock in /usr/local/lib/python3.12/dist-packages (from huggingface-hub<1.0,>=0.16.4->tokenizers>=0.13.2->chromadb>=1.0.9->langchain_chroma) (3.19.1)\n",
            "Requirement already satisfied: fsspec>=2023.5.0 in /usr/local/lib/python3.12/dist-packages (from huggingface-hub<1.0,>=0.16.4->tokenizers>=0.13.2->chromadb>=1.0.9->langchain_chroma) (2025.3.0)\n",
            "Requirement already satisfied: hf-xet<2.0.0,>=1.1.3 in /usr/local/lib/python3.12/dist-packages (from huggingface-hub<1.0,>=0.16.4->tokenizers>=0.13.2->chromadb>=1.0.9->langchain_chroma) (1.1.9)\n",
            "Requirement already satisfied: zipp>=3.20 in /usr/local/lib/python3.12/dist-packages (from importlib-metadata<8.8.0,>=6.0->opentelemetry-api>=1.2.0->chromadb>=1.0.9->langchain_chroma) (3.23.0)\n",
            "Requirement already satisfied: mdurl~=0.1 in /usr/local/lib/python3.12/dist-packages (from markdown-it-py>=2.2.0->rich>=10.11.0->chromadb>=1.0.9->langchain_chroma) (0.1.2)\n",
            "Requirement already satisfied: charset_normalizer<4,>=2 in /usr/local/lib/python3.12/dist-packages (from requests->kubernetes>=28.1.0->chromadb>=1.0.9->langchain_chroma) (3.4.3)\n",
            "Requirement already satisfied: sniffio>=1.1 in /usr/local/lib/python3.12/dist-packages (from anyio->httpx>=0.27.0->chromadb>=1.0.9->langchain_chroma) (1.3.1)\n",
            "Requirement already satisfied: humanfriendly>=9.1 in /usr/local/lib/python3.12/dist-packages (from coloredlogs->onnxruntime>=1.14.1->chromadb>=1.0.9->langchain_chroma) (10.0)\n",
            "Requirement already satisfied: mpmath<1.4,>=1.1.0 in /usr/local/lib/python3.12/dist-packages (from sympy->onnxruntime>=1.14.1->chromadb>=1.0.9->langchain_chroma) (1.3.0)\n",
            "Requirement already satisfied: pyasn1<0.7.0,>=0.6.1 in /usr/local/lib/python3.12/dist-packages (from pyasn1-modules>=0.2.1->google-auth>=1.0.1->kubernetes>=28.1.0->chromadb>=1.0.9->langchain_chroma) (0.6.1)\n",
            "Requirement already satisfied: langgraph in /usr/local/lib/python3.12/dist-packages (0.6.6)\n",
            "Requirement already satisfied: langchain-core>=0.1 in /usr/local/lib/python3.12/dist-packages (from langgraph) (0.3.75)\n",
            "Requirement already satisfied: langgraph-checkpoint<3.0.0,>=2.1.0 in /usr/local/lib/python3.12/dist-packages (from langgraph) (2.1.1)\n",
            "Requirement already satisfied: langgraph-prebuilt<0.7.0,>=0.6.0 in /usr/local/lib/python3.12/dist-packages (from langgraph) (0.6.4)\n",
            "Requirement already satisfied: langgraph-sdk<0.3.0,>=0.2.2 in /usr/local/lib/python3.12/dist-packages (from langgraph) (0.2.6)\n",
            "Requirement already satisfied: pydantic>=2.7.4 in /usr/local/lib/python3.12/dist-packages (from langgraph) (2.11.7)\n",
            "Requirement already satisfied: xxhash>=3.5.0 in /usr/local/lib/python3.12/dist-packages (from langgraph) (3.5.0)\n",
            "Requirement already satisfied: langsmith>=0.3.45 in /usr/local/lib/python3.12/dist-packages (from langchain-core>=0.1->langgraph) (0.4.23)\n",
            "Requirement already satisfied: tenacity!=8.4.0,<10.0.0,>=8.1.0 in /usr/local/lib/python3.12/dist-packages (from langchain-core>=0.1->langgraph) (8.5.0)\n",
            "Requirement already satisfied: jsonpatch<2.0,>=1.33 in /usr/local/lib/python3.12/dist-packages (from langchain-core>=0.1->langgraph) (1.33)\n",
            "Requirement already satisfied: PyYAML>=5.3 in /usr/local/lib/python3.12/dist-packages (from langchain-core>=0.1->langgraph) (6.0.2)\n",
            "Requirement already satisfied: typing-extensions>=4.7 in /usr/local/lib/python3.12/dist-packages (from langchain-core>=0.1->langgraph) (4.15.0)\n",
            "Requirement already satisfied: packaging>=23.2 in /usr/local/lib/python3.12/dist-packages (from langchain-core>=0.1->langgraph) (25.0)\n",
            "Requirement already satisfied: ormsgpack>=1.10.0 in /usr/local/lib/python3.12/dist-packages (from langgraph-checkpoint<3.0.0,>=2.1.0->langgraph) (1.10.0)\n",
            "Requirement already satisfied: httpx>=0.25.2 in /usr/local/lib/python3.12/dist-packages (from langgraph-sdk<0.3.0,>=0.2.2->langgraph) (0.28.1)\n",
            "Requirement already satisfied: orjson>=3.10.1 in /usr/local/lib/python3.12/dist-packages (from langgraph-sdk<0.3.0,>=0.2.2->langgraph) (3.11.3)\n",
            "Requirement already satisfied: annotated-types>=0.6.0 in /usr/local/lib/python3.12/dist-packages (from pydantic>=2.7.4->langgraph) (0.7.0)\n",
            "Requirement already satisfied: pydantic-core==2.33.2 in /usr/local/lib/python3.12/dist-packages (from pydantic>=2.7.4->langgraph) (2.33.2)\n",
            "Requirement already satisfied: typing-inspection>=0.4.0 in /usr/local/lib/python3.12/dist-packages (from pydantic>=2.7.4->langgraph) (0.4.1)\n",
            "Requirement already satisfied: anyio in /usr/local/lib/python3.12/dist-packages (from httpx>=0.25.2->langgraph-sdk<0.3.0,>=0.2.2->langgraph) (4.10.0)\n",
            "Requirement already satisfied: certifi in /usr/local/lib/python3.12/dist-packages (from httpx>=0.25.2->langgraph-sdk<0.3.0,>=0.2.2->langgraph) (2025.8.3)\n",
            "Requirement already satisfied: httpcore==1.* in /usr/local/lib/python3.12/dist-packages (from httpx>=0.25.2->langgraph-sdk<0.3.0,>=0.2.2->langgraph) (1.0.9)\n",
            "Requirement already satisfied: idna in /usr/local/lib/python3.12/dist-packages (from httpx>=0.25.2->langgraph-sdk<0.3.0,>=0.2.2->langgraph) (3.10)\n",
            "Requirement already satisfied: h11>=0.16 in /usr/local/lib/python3.12/dist-packages (from httpcore==1.*->httpx>=0.25.2->langgraph-sdk<0.3.0,>=0.2.2->langgraph) (0.16.0)\n",
            "Requirement already satisfied: jsonpointer>=1.9 in /usr/local/lib/python3.12/dist-packages (from jsonpatch<2.0,>=1.33->langchain-core>=0.1->langgraph) (3.0.0)\n",
            "Requirement already satisfied: requests-toolbelt>=1.0.0 in /usr/local/lib/python3.12/dist-packages (from langsmith>=0.3.45->langchain-core>=0.1->langgraph) (1.0.0)\n",
            "Requirement already satisfied: requests>=2.0.0 in /usr/local/lib/python3.12/dist-packages (from langsmith>=0.3.45->langchain-core>=0.1->langgraph) (2.32.5)\n",
            "Requirement already satisfied: zstandard>=0.23.0 in /usr/local/lib/python3.12/dist-packages (from langsmith>=0.3.45->langchain-core>=0.1->langgraph) (0.24.0)\n",
            "Requirement already satisfied: charset_normalizer<4,>=2 in /usr/local/lib/python3.12/dist-packages (from requests>=2.0.0->langsmith>=0.3.45->langchain-core>=0.1->langgraph) (3.4.3)\n",
            "Requirement already satisfied: urllib3<3,>=1.21.1 in /usr/local/lib/python3.12/dist-packages (from requests>=2.0.0->langsmith>=0.3.45->langchain-core>=0.1->langgraph) (2.5.0)\n",
            "Requirement already satisfied: sniffio>=1.1 in /usr/local/lib/python3.12/dist-packages (from anyio->httpx>=0.25.2->langgraph-sdk<0.3.0,>=0.2.2->langgraph) (1.3.1)\n",
            "Requirement already satisfied: tenacity in /usr/local/lib/python3.12/dist-packages (8.5.0)\n",
            "Requirement already satisfied: pysqlite3-binary in /usr/local/lib/python3.12/dist-packages (0.5.4)\n",
            "Requirement already satisfied: pandas in /usr/local/lib/python3.12/dist-packages (2.2.2)\n",
            "Requirement already satisfied: numpy>=1.26.0 in /usr/local/lib/python3.12/dist-packages (from pandas) (2.0.2)\n",
            "Requirement already satisfied: python-dateutil>=2.8.2 in /usr/local/lib/python3.12/dist-packages (from pandas) (2.9.0.post0)\n",
            "Requirement already satisfied: pytz>=2020.1 in /usr/local/lib/python3.12/dist-packages (from pandas) (2025.2)\n",
            "Requirement already satisfied: tzdata>=2022.7 in /usr/local/lib/python3.12/dist-packages (from pandas) (2025.2)\n",
            "Requirement already satisfied: six>=1.5 in /usr/local/lib/python3.12/dist-packages (from python-dateutil>=2.8.2->pandas) (1.17.0)\n",
            "Requirement already satisfied: pypdf in /usr/local/lib/python3.12/dist-packages (6.0.0)\n",
            "Requirement already satisfied: nbformat in /usr/local/lib/python3.12/dist-packages (5.10.4)\n",
            "Requirement already satisfied: fastjsonschema>=2.15 in /usr/local/lib/python3.12/dist-packages (from nbformat) (2.21.2)\n",
            "Requirement already satisfied: jsonschema>=2.6 in /usr/local/lib/python3.12/dist-packages (from nbformat) (4.25.1)\n",
            "Requirement already satisfied: jupyter-core!=5.0.*,>=4.12 in /usr/local/lib/python3.12/dist-packages (from nbformat) (5.8.1)\n",
            "Requirement already satisfied: traitlets>=5.1 in /usr/local/lib/python3.12/dist-packages (from nbformat) (5.7.1)\n",
            "Requirement already satisfied: attrs>=22.2.0 in /usr/local/lib/python3.12/dist-packages (from jsonschema>=2.6->nbformat) (25.3.0)\n",
            "Requirement already satisfied: jsonschema-specifications>=2023.03.6 in /usr/local/lib/python3.12/dist-packages (from jsonschema>=2.6->nbformat) (2025.4.1)\n",
            "Requirement already satisfied: referencing>=0.28.4 in /usr/local/lib/python3.12/dist-packages (from jsonschema>=2.6->nbformat) (0.36.2)\n",
            "Requirement already satisfied: rpds-py>=0.7.1 in /usr/local/lib/python3.12/dist-packages (from jsonschema>=2.6->nbformat) (0.27.1)\n",
            "Requirement already satisfied: platformdirs>=2.5 in /usr/local/lib/python3.12/dist-packages (from jupyter-core!=5.0.*,>=4.12->nbformat) (4.4.0)\n",
            "Requirement already satisfied: typing-extensions>=4.4.0 in /usr/local/lib/python3.12/dist-packages (from referencing>=0.28.4->jsonschema>=2.6->nbformat) (4.15.0)\n"
          ]
        }
      ],
      "source": [
        "#Install all dependency packages\n",
        "#Remember to execute this before running any of the exercises\n",
        "\n",
        "!pip install langchain\n",
        "!pip install langchain-openai\n",
        "!pip install langchain_community\n",
        "!pip install langchain_chroma\n",
        "!pip install langgraph\n",
        "!pip install tenacity\n",
        "!pip install pysqlite3-binary\n",
        "!pip install pandas\n",
        "!pip install pypdf\n",
        "!pip install nbformat"
      ]
    },
    {
      "cell_type": "markdown",
      "source": [
        "### Setup Function Tools for ReAct Agent"
      ],
      "metadata": {
        "id": "sGiYYyiekzV5"
      }
    },
    {
      "cell_type": "code",
      "source": [
        "from langchain_core.tools import tool\n",
        "\n",
        "@tool\n",
        "def find_sum(x: int, y:int) -> int :\n",
        "  \"\"\"\n",
        "  This function takes as input two integers and returns their sum\n",
        "  \"\"\"\n",
        "  return x+y\n",
        "\n",
        "@tool\n",
        "def find_product(x: int, y: int) -> int:\n",
        "  \"\"\"\n",
        "  This function takes as input two integers and returns their product.\n",
        "  \"\"\"\n",
        "  return x*y"
      ],
      "metadata": {
        "id": "3MnXHP0rSs_n"
      },
      "execution_count": 3,
      "outputs": []
    },
    {
      "cell_type": "markdown",
      "source": [
        "### Create a basic ReAct Agent"
      ],
      "metadata": {
        "id": "U8-dxsOek_4A"
      }
    },
    {
      "cell_type": "code",
      "source": [
        "from google.colab import userdata\n",
        "from langchain_openai import ChatOpenAI\n",
        "\n",
        "model = ChatOpenAI(model_name=\"gpt-3.5-turbo\", openai_api_key=userdata.get('oai'))\n",
        "\n",
        "response = model.invoke(\"Hello, how are you?\")\n",
        "print(response.content)"
      ],
      "metadata": {
        "colab": {
          "base_uri": "https://localhost:8080/"
        },
        "id": "T6pMQrweTz9T",
        "outputId": "60d6d9b5-d05f-4ff3-f6fb-d650a5427b6d"
      },
      "execution_count": 6,
      "outputs": [
        {
          "output_type": "stream",
          "name": "stdout",
          "text": [
            "Hello! I'm just a computer program, so I don't have feelings, but I'm here and ready to assist you with anything you need. How can I help you today?\n"
          ]
        }
      ]
    },
    {
      "cell_type": "code",
      "source": [
        "from langgraph.prebuilt import create_react_agent\n",
        "from langchain_core.messages import SystemMessage\n",
        "\n",
        "agent_tools = [find_sum, find_product]\n",
        "\n",
        "#System prompt\n",
        "system_prompt=SystemMessage(\n",
        "    \"\"\"You are a Math genius who can solve math problems. Solve the\n",
        "    problems provided by the user, by using only tools available.\n",
        "    Do not solve the problem yourself\"\"\"\n",
        ")\n",
        "\n",
        "agent_graph=create_react_agent(\n",
        "    model,\n",
        "    prompt=system_prompt,\n",
        "    tools=agent_tools)"
      ],
      "metadata": {
        "id": "f_QB0l_NXAM1"
      },
      "execution_count": 8,
      "outputs": []
    },
    {
      "cell_type": "markdown",
      "source": [
        "### Execute the ReAct Agent"
      ],
      "metadata": {
        "id": "zKmFwdl8lGHO"
      }
    },
    {
      "cell_type": "code",
      "source": [
        "#Example 1\n",
        "inputs = {\"messages\":[(\"user\",\"what is the sum of 2 and 3 ?\"), (\"user\",\"what is the product of 2 and 3 ?\")]}\n",
        "\n",
        "result = agent_graph.invoke(inputs)\n",
        "\n",
        "#Get the final answer\n",
        "print(f\"Agent returned : {result['messages'][-1].content} \\n\")\n",
        "\n",
        "print(\"Step by Step execution : \")\n",
        "for message in result['messages']:\n",
        "    print(message.pretty_repr())\n"
      ],
      "metadata": {
        "colab": {
          "base_uri": "https://localhost:8080/"
        },
        "id": "ZGrq6IWNfu2R",
        "outputId": "2d964081-29d7-4e05-bf07-ef0b3ee2d895"
      },
      "execution_count": 10,
      "outputs": [
        {
          "output_type": "stream",
          "name": "stdout",
          "text": [
            "Agent returned : The sum of 2 and 3 is 5, and the product of 2 and 3 is 6. \n",
            "\n",
            "Step by Step execution : \n",
            "================================ Human Message =================================\n",
            "\n",
            "what is the sum of 2 and 3 ?\n",
            "================================ Human Message =================================\n",
            "\n",
            "what is the product of 2 and 3 ?\n",
            "================================== Ai Message ==================================\n",
            "Tool Calls:\n",
            "  find_sum (call_aTRZQg0yWyznpB4bmExl36fB)\n",
            " Call ID: call_aTRZQg0yWyznpB4bmExl36fB\n",
            "  Args:\n",
            "    x: 2\n",
            "    y: 3\n",
            "  find_product (call_IF9OqaC60gPs1gNLCEYf4IZl)\n",
            " Call ID: call_IF9OqaC60gPs1gNLCEYf4IZl\n",
            "  Args:\n",
            "    x: 2\n",
            "    y: 3\n",
            "================================= Tool Message =================================\n",
            "Name: find_sum\n",
            "\n",
            "5\n",
            "================================= Tool Message =================================\n",
            "Name: find_product\n",
            "\n",
            "6\n",
            "================================== Ai Message ==================================\n",
            "\n",
            "The sum of 2 and 3 is 5, and the product of 2 and 3 is 6.\n"
          ]
        }
      ]
    },
    {
      "cell_type": "markdown",
      "source": [
        "### Debugging the Agent"
      ],
      "metadata": {
        "id": "geYmWZujlKz0"
      }
    },
    {
      "cell_type": "code",
      "source": [
        "agent_graph=create_react_agent(\n",
        "    model,\n",
        "    prompt=system_prompt,\n",
        "    tools=agent_tools,\n",
        "    debug=True)\n",
        "\n",
        "inputs = {\"messages\":[(\"user\",\"what is the sum of 2 and 3 ?\")]}\n",
        "\n",
        "result = agent_graph.invoke(inputs)"
      ],
      "metadata": {
        "colab": {
          "base_uri": "https://localhost:8080/"
        },
        "id": "3qlcxRxYh1Mx",
        "outputId": "df58b92c-c3ab-4836-9e1b-15f94ce3ec3e"
      },
      "execution_count": 11,
      "outputs": [
        {
          "output_type": "stream",
          "name": "stdout",
          "text": [
            "\u001b[1m[values]\u001b[0m {'messages': [HumanMessage(content='what is the sum of 2 and 3 ?', additional_kwargs={}, response_metadata={}, id='754e283f-79ab-4479-840a-385eac716b37')]}\n",
            "\u001b[1m[updates]\u001b[0m {'agent': {'messages': [AIMessage(content='', additional_kwargs={'tool_calls': [{'id': 'call_Yet8PvvfKbofEafsDeYWC7Hc', 'function': {'arguments': '{\"x\":2,\"y\":3}', 'name': 'find_sum'}, 'type': 'function'}], 'refusal': None}, response_metadata={'token_usage': {'completion_tokens': 18, 'prompt_tokens': 132, 'total_tokens': 150, 'completion_tokens_details': {'accepted_prediction_tokens': 0, 'audio_tokens': 0, 'reasoning_tokens': 0, 'rejected_prediction_tokens': 0}, 'prompt_tokens_details': {'audio_tokens': 0, 'cached_tokens': 0}}, 'model_name': 'gpt-3.5-turbo-0125', 'system_fingerprint': None, 'id': 'chatcmpl-CDAVvFuHN3Heu85565JGMY3avlvE8', 'service_tier': 'default', 'finish_reason': 'tool_calls', 'logprobs': None}, id='run--02a7bbb0-4e4a-417a-83c5-bfa207331dd6-0', tool_calls=[{'name': 'find_sum', 'args': {'x': 2, 'y': 3}, 'id': 'call_Yet8PvvfKbofEafsDeYWC7Hc', 'type': 'tool_call'}], usage_metadata={'input_tokens': 132, 'output_tokens': 18, 'total_tokens': 150, 'input_token_details': {'audio': 0, 'cache_read': 0}, 'output_token_details': {'audio': 0, 'reasoning': 0}})]}}\n",
            "\u001b[1m[values]\u001b[0m {'messages': [HumanMessage(content='what is the sum of 2 and 3 ?', additional_kwargs={}, response_metadata={}, id='754e283f-79ab-4479-840a-385eac716b37'), AIMessage(content='', additional_kwargs={'tool_calls': [{'id': 'call_Yet8PvvfKbofEafsDeYWC7Hc', 'function': {'arguments': '{\"x\":2,\"y\":3}', 'name': 'find_sum'}, 'type': 'function'}], 'refusal': None}, response_metadata={'token_usage': {'completion_tokens': 18, 'prompt_tokens': 132, 'total_tokens': 150, 'completion_tokens_details': {'accepted_prediction_tokens': 0, 'audio_tokens': 0, 'reasoning_tokens': 0, 'rejected_prediction_tokens': 0}, 'prompt_tokens_details': {'audio_tokens': 0, 'cached_tokens': 0}}, 'model_name': 'gpt-3.5-turbo-0125', 'system_fingerprint': None, 'id': 'chatcmpl-CDAVvFuHN3Heu85565JGMY3avlvE8', 'service_tier': 'default', 'finish_reason': 'tool_calls', 'logprobs': None}, id='run--02a7bbb0-4e4a-417a-83c5-bfa207331dd6-0', tool_calls=[{'name': 'find_sum', 'args': {'x': 2, 'y': 3}, 'id': 'call_Yet8PvvfKbofEafsDeYWC7Hc', 'type': 'tool_call'}], usage_metadata={'input_tokens': 132, 'output_tokens': 18, 'total_tokens': 150, 'input_token_details': {'audio': 0, 'cache_read': 0}, 'output_token_details': {'audio': 0, 'reasoning': 0}})]}\n",
            "\u001b[1m[updates]\u001b[0m {'tools': {'messages': [ToolMessage(content='5', name='find_sum', id='0a9ed407-3d24-4dd1-90ab-6acbfe069454', tool_call_id='call_Yet8PvvfKbofEafsDeYWC7Hc')]}}\n",
            "\u001b[1m[values]\u001b[0m {'messages': [HumanMessage(content='what is the sum of 2 and 3 ?', additional_kwargs={}, response_metadata={}, id='754e283f-79ab-4479-840a-385eac716b37'), AIMessage(content='', additional_kwargs={'tool_calls': [{'id': 'call_Yet8PvvfKbofEafsDeYWC7Hc', 'function': {'arguments': '{\"x\":2,\"y\":3}', 'name': 'find_sum'}, 'type': 'function'}], 'refusal': None}, response_metadata={'token_usage': {'completion_tokens': 18, 'prompt_tokens': 132, 'total_tokens': 150, 'completion_tokens_details': {'accepted_prediction_tokens': 0, 'audio_tokens': 0, 'reasoning_tokens': 0, 'rejected_prediction_tokens': 0}, 'prompt_tokens_details': {'audio_tokens': 0, 'cached_tokens': 0}}, 'model_name': 'gpt-3.5-turbo-0125', 'system_fingerprint': None, 'id': 'chatcmpl-CDAVvFuHN3Heu85565JGMY3avlvE8', 'service_tier': 'default', 'finish_reason': 'tool_calls', 'logprobs': None}, id='run--02a7bbb0-4e4a-417a-83c5-bfa207331dd6-0', tool_calls=[{'name': 'find_sum', 'args': {'x': 2, 'y': 3}, 'id': 'call_Yet8PvvfKbofEafsDeYWC7Hc', 'type': 'tool_call'}], usage_metadata={'input_tokens': 132, 'output_tokens': 18, 'total_tokens': 150, 'input_token_details': {'audio': 0, 'cache_read': 0}, 'output_token_details': {'audio': 0, 'reasoning': 0}}), ToolMessage(content='5', name='find_sum', id='0a9ed407-3d24-4dd1-90ab-6acbfe069454', tool_call_id='call_Yet8PvvfKbofEafsDeYWC7Hc')]}\n",
            "\u001b[1m[updates]\u001b[0m {'agent': {'messages': [AIMessage(content='The sum of 2 and 3 is 5.', additional_kwargs={'refusal': None}, response_metadata={'token_usage': {'completion_tokens': 13, 'prompt_tokens': 159, 'total_tokens': 172, 'completion_tokens_details': {'accepted_prediction_tokens': 0, 'audio_tokens': 0, 'reasoning_tokens': 0, 'rejected_prediction_tokens': 0}, 'prompt_tokens_details': {'audio_tokens': 0, 'cached_tokens': 0}}, 'model_name': 'gpt-3.5-turbo-0125', 'system_fingerprint': None, 'id': 'chatcmpl-CDAVvXnvZ7xife9SMkB6Jelt0rYyX', 'service_tier': 'default', 'finish_reason': 'stop', 'logprobs': None}, id='run--d16827fd-7c43-4171-a830-238d9976c16e-0', usage_metadata={'input_tokens': 159, 'output_tokens': 13, 'total_tokens': 172, 'input_token_details': {'audio': 0, 'cache_read': 0}, 'output_token_details': {'audio': 0, 'reasoning': 0}})]}}\n",
            "\u001b[1m[values]\u001b[0m {'messages': [HumanMessage(content='what is the sum of 2 and 3 ?', additional_kwargs={}, response_metadata={}, id='754e283f-79ab-4479-840a-385eac716b37'), AIMessage(content='', additional_kwargs={'tool_calls': [{'id': 'call_Yet8PvvfKbofEafsDeYWC7Hc', 'function': {'arguments': '{\"x\":2,\"y\":3}', 'name': 'find_sum'}, 'type': 'function'}], 'refusal': None}, response_metadata={'token_usage': {'completion_tokens': 18, 'prompt_tokens': 132, 'total_tokens': 150, 'completion_tokens_details': {'accepted_prediction_tokens': 0, 'audio_tokens': 0, 'reasoning_tokens': 0, 'rejected_prediction_tokens': 0}, 'prompt_tokens_details': {'audio_tokens': 0, 'cached_tokens': 0}}, 'model_name': 'gpt-3.5-turbo-0125', 'system_fingerprint': None, 'id': 'chatcmpl-CDAVvFuHN3Heu85565JGMY3avlvE8', 'service_tier': 'default', 'finish_reason': 'tool_calls', 'logprobs': None}, id='run--02a7bbb0-4e4a-417a-83c5-bfa207331dd6-0', tool_calls=[{'name': 'find_sum', 'args': {'x': 2, 'y': 3}, 'id': 'call_Yet8PvvfKbofEafsDeYWC7Hc', 'type': 'tool_call'}], usage_metadata={'input_tokens': 132, 'output_tokens': 18, 'total_tokens': 150, 'input_token_details': {'audio': 0, 'cache_read': 0}, 'output_token_details': {'audio': 0, 'reasoning': 0}}), ToolMessage(content='5', name='find_sum', id='0a9ed407-3d24-4dd1-90ab-6acbfe069454', tool_call_id='call_Yet8PvvfKbofEafsDeYWC7Hc'), AIMessage(content='The sum of 2 and 3 is 5.', additional_kwargs={'refusal': None}, response_metadata={'token_usage': {'completion_tokens': 13, 'prompt_tokens': 159, 'total_tokens': 172, 'completion_tokens_details': {'accepted_prediction_tokens': 0, 'audio_tokens': 0, 'reasoning_tokens': 0, 'rejected_prediction_tokens': 0}, 'prompt_tokens_details': {'audio_tokens': 0, 'cached_tokens': 0}}, 'model_name': 'gpt-3.5-turbo-0125', 'system_fingerprint': None, 'id': 'chatcmpl-CDAVvXnvZ7xife9SMkB6Jelt0rYyX', 'service_tier': 'default', 'finish_reason': 'stop', 'logprobs': None}, id='run--d16827fd-7c43-4171-a830-238d9976c16e-0', usage_metadata={'input_tokens': 159, 'output_tokens': 13, 'total_tokens': 172, 'input_token_details': {'audio': 0, 'cache_read': 0}, 'output_token_details': {'audio': 0, 'reasoning': 0}})]}\n"
          ]
        }
      ]
    },
    {
      "cell_type": "markdown",
      "metadata": {
        "id": "f165ff37"
      },
      "source": [
        "# Task\n",
        "Improve the existing agent to handle multiple users, maintain separate conversation histories for each user, and simulate user-specific data access, providing a step-by-step implementation."
      ]
    },
    {
      "cell_type": "markdown",
      "metadata": {
        "id": "be2aa373"
      },
      "source": [
        "## Implement a basic user identification system\n",
        "\n",
        "### Subtask:\n",
        "We'll start by adding a simple way to identify users in our current notebook environment.\n"
      ]
    },
    {
      "cell_type": "markdown",
      "metadata": {
        "id": "79a6c417"
      },
      "source": [
        "**Reasoning**:\n",
        "Add a markdown cell to explain the purpose of the `current_user_id` variable.\n",
        "\n"
      ]
    },
    {
      "cell_type": "code",
      "metadata": {
        "id": "99ed5499"
      },
      "source": [
        "current_user_id = \"user_123\""
      ],
      "execution_count": 12,
      "outputs": []
    },
    {
      "cell_type": "markdown",
      "source": [
        "### User Identification Simulation\n",
        "\n",
        "For this demonstration, we are using the `current_user_id` variable to simulate a unique identifier for a logged-in user. In a real-world application, this ID would typically come from an authentication system."
      ],
      "metadata": {
        "id": "sJ0IUa3eBRU2"
      }
    },
    {
      "cell_type": "markdown",
      "metadata": {
        "id": "16c878ae"
      },
      "source": [
        "## Set up in-memory conversation storage\n",
        "\n",
        "### Subtask:\n",
        "We'll use a Python dictionary to store conversation history in memory for different users. This will be a temporary solution to demonstrate the concept before moving to a persistent storage.\n"
      ]
    },
    {
      "cell_type": "markdown",
      "metadata": {
        "id": "6e6de0e0"
      },
      "source": [
        "**Reasoning**:\n",
        "Initialize an empty dictionary to store conversation history for different users and print it to verify it's empty.\n",
        "\n"
      ]
    },
    {
      "cell_type": "code",
      "metadata": {
        "colab": {
          "base_uri": "https://localhost:8080/"
        },
        "id": "ee7fc6a5",
        "outputId": "1a882c22-91b3-4d8c-93dc-47e2c677e952"
      },
      "source": [
        "conversation_history = {}\n",
        "print(conversation_history)"
      ],
      "execution_count": 14,
      "outputs": [
        {
          "output_type": "stream",
          "name": "stdout",
          "text": [
            "{}\n"
          ]
        }
      ]
    },
    {
      "cell_type": "markdown",
      "metadata": {
        "id": "057539b6"
      },
      "source": [
        "## Modify the agent to use conversation history\n",
        "\n",
        "### Subtask:\n",
        "We'll adapt the agent's invocation to take and return conversation history, allowing it to maintain context for each user.\n"
      ]
    },
    {
      "cell_type": "markdown",
      "metadata": {
        "id": "11b6c100"
      },
      "source": [
        "**Reasoning**:\n",
        "Define the function `handle_user_query` to manage conversation history for each user and interact with the agent graph.\n",
        "\n"
      ]
    },
    {
      "cell_type": "code",
      "metadata": {
        "id": "5a3a4893"
      },
      "source": [
        "from langchain_core.messages import HumanMessage, AIMessage\n",
        "\n",
        "def handle_user_query(agent_graph, user_query: str, user_id: str):\n",
        "    \"\"\"\n",
        "    Handles user queries, maintaining conversation history for each user.\n",
        "\n",
        "    Args:\n",
        "        agent_graph: The LangChain agent graph.\n",
        "        user_query: The current user query string.\n",
        "        user_id: The unique identifier for the user.\n",
        "\n",
        "    Returns:\n",
        "        The agent's response as a string.\n",
        "    \"\"\"\n",
        "    # Retrieve or initialize conversation history for the user\n",
        "    if user_id not in conversation_history:\n",
        "        conversation_history[user_id] = []\n",
        "\n",
        "    # Append the current user query\n",
        "    conversation_history[user_id].append(HumanMessage(content=user_query))\n",
        "\n",
        "    # Invoke the agent graph with the user's history\n",
        "    result = agent_graph.invoke({\"messages\": conversation_history[user_id]})\n",
        "\n",
        "    # Extract the agent's response\n",
        "    agent_response = result['messages'][-1].content\n",
        "\n",
        "    # Append the agent's response to the history\n",
        "    conversation_history[user_id].append(AIMessage(content=agent_response))\n",
        "\n",
        "    return agent_response\n"
      ],
      "execution_count": 16,
      "outputs": []
    },
    {
      "cell_type": "code",
      "source": [
        "conversation_history"
      ],
      "metadata": {
        "colab": {
          "base_uri": "https://localhost:8080/"
        },
        "id": "TZAe-FeMKTeG",
        "outputId": "43f78e72-7267-4906-b752-c6335585f67b"
      },
      "execution_count": 21,
      "outputs": [
        {
          "output_type": "execute_result",
          "data": {
            "text/plain": [
              "{'user_Charlie': [HumanMessage(content='what is the sum of 10 and 15?', additional_kwargs={}, response_metadata={}, id='6b6b17ee-7867-4de4-ae52-9d110ffda4e4'),\n",
              "  AIMessage(content='The sum of 10 and 15 is 25.', additional_kwargs={}, response_metadata={}, id='ef0e645f-5c1d-4cae-bdc1-261e7573834e'),\n",
              "  HumanMessage(content='what is the product of 4 and 7?', additional_kwargs={}, response_metadata={}, id='5ae0012f-d200-45fb-a00a-9c1751a6de61'),\n",
              "  AIMessage(content='The sum of 4 and 7 is 11, and the product of 4 and 7 is 28.', additional_kwargs={}, response_metadata={})],\n",
              " 'user_Alice': [HumanMessage(content='what is the sum of 50 and 100?', additional_kwargs={}, response_metadata={}, id='e2730c5e-6561-4aa9-aa14-fbdc0d8208d8'),\n",
              "  AIMessage(content='The sum of 50 and 100 is 150.', additional_kwargs={}, response_metadata={}, id='6e3629a8-6fe7-402c-b840-86411c62a670'),\n",
              "  HumanMessage(content='what is the product of 9 and 9?', additional_kwargs={}, response_metadata={}, id='1bac7c21-f4d2-4e2a-bfcc-5a7181dafcdf'),\n",
              "  AIMessage(content='The sum of 50 and 100 is 150, and the product of 9 and 9 is 81.', additional_kwargs={}, response_metadata={})]}"
            ]
          },
          "metadata": {},
          "execution_count": 21
        }
      ]
    },
    {
      "cell_type": "markdown",
      "metadata": {
        "id": "26ab03ad"
      },
      "source": [
        "## Simulate multiple users\n",
        "\n",
        "### Subtask:\n",
        "Simulate interactions from different users to test if the agent correctly handles separate conversations.\n"
      ]
    },
    {
      "cell_type": "markdown",
      "metadata": {
        "id": "76bb9585"
      },
      "source": [
        "**Reasoning**:\n",
        "Simulate interactions from different users by iterating through a list of queries, randomly selecting a user for each query, invoking the handle_user_query function, and printing the interaction details. After the simulation, print the conversation_history to verify that separate histories are maintained.\n",
        "\n"
      ]
    },
    {
      "cell_type": "code",
      "metadata": {
        "colab": {
          "base_uri": "https://localhost:8080/"
        },
        "id": "7b230fec",
        "outputId": "80da8262-190b-46bd-feb3-3b6eba127a40"
      },
      "source": [
        "import random\n",
        "from langchain_core.messages import HumanMessage, AIMessage\n",
        "\n",
        "user_ids = [\"user_Alice\", \"user_Bob\", \"user_Charlie\"]\n",
        "queries = [\n",
        "    \"what is the sum of 10 and 15?\",\n",
        "    \"what is the product of 4 and 7?\",\n",
        "    \"what is the sum of 50 and 100?\",\n",
        "    \"what is the product of 9 and 9?\"\n",
        "]\n",
        "\n",
        "# Ensure the agent_graph object exists from previous steps\n",
        "if 'agent_graph' not in globals():\n",
        "    print(\"Error: agent_graph is not defined. Please run the previous cells.\")\n",
        "else:\n",
        "    for query in queries:\n",
        "        user_id = random.choice(user_ids)\n",
        "        print(f\"--- User: {user_id}, Query: {query} ---\")\n",
        "        response = handle_user_query(agent_graph, query, user_id)\n",
        "        print(f\"Agent Response: {response}\\n\")\n",
        "\n",
        "    print(\"\\n--- Final Conversation History ---\")\n",
        "    for user_id, history in conversation_history.items():\n",
        "        print(f\"History for {user_id}:\")\n",
        "        for message in history:\n",
        "            print(f\"  {message.type}: {message.content}\")\n",
        "        print(\"-\" * 20)\n"
      ],
      "execution_count": 17,
      "outputs": [
        {
          "output_type": "stream",
          "name": "stdout",
          "text": [
            "--- User: user_Charlie, Query: what is the sum of 10 and 15? ---\n",
            "\u001b[1m[values]\u001b[0m {'messages': [HumanMessage(content='what is the sum of 10 and 15?', additional_kwargs={}, response_metadata={}, id='6b6b17ee-7867-4de4-ae52-9d110ffda4e4')]}\n",
            "\u001b[1m[updates]\u001b[0m {'agent': {'messages': [AIMessage(content='', additional_kwargs={'tool_calls': [{'id': 'call_TBzYtOThRCNVb5GpJbRL5kD2', 'function': {'arguments': '{\"x\":10,\"y\":15}', 'name': 'find_sum'}, 'type': 'function'}], 'refusal': None}, response_metadata={'token_usage': {'completion_tokens': 18, 'prompt_tokens': 132, 'total_tokens': 150, 'completion_tokens_details': {'accepted_prediction_tokens': 0, 'audio_tokens': 0, 'reasoning_tokens': 0, 'rejected_prediction_tokens': 0}, 'prompt_tokens_details': {'audio_tokens': 0, 'cached_tokens': 0}}, 'model_name': 'gpt-3.5-turbo-0125', 'system_fingerprint': None, 'id': 'chatcmpl-CDCYFw3oL3oQAZaHNd9K7TBB0Amxy', 'service_tier': 'default', 'finish_reason': 'tool_calls', 'logprobs': None}, id='run--3dbe484b-4f76-4dd7-be51-4442ce19ba32-0', tool_calls=[{'name': 'find_sum', 'args': {'x': 10, 'y': 15}, 'id': 'call_TBzYtOThRCNVb5GpJbRL5kD2', 'type': 'tool_call'}], usage_metadata={'input_tokens': 132, 'output_tokens': 18, 'total_tokens': 150, 'input_token_details': {'audio': 0, 'cache_read': 0}, 'output_token_details': {'audio': 0, 'reasoning': 0}})]}}\n",
            "\u001b[1m[values]\u001b[0m {'messages': [HumanMessage(content='what is the sum of 10 and 15?', additional_kwargs={}, response_metadata={}, id='6b6b17ee-7867-4de4-ae52-9d110ffda4e4'), AIMessage(content='', additional_kwargs={'tool_calls': [{'id': 'call_TBzYtOThRCNVb5GpJbRL5kD2', 'function': {'arguments': '{\"x\":10,\"y\":15}', 'name': 'find_sum'}, 'type': 'function'}], 'refusal': None}, response_metadata={'token_usage': {'completion_tokens': 18, 'prompt_tokens': 132, 'total_tokens': 150, 'completion_tokens_details': {'accepted_prediction_tokens': 0, 'audio_tokens': 0, 'reasoning_tokens': 0, 'rejected_prediction_tokens': 0}, 'prompt_tokens_details': {'audio_tokens': 0, 'cached_tokens': 0}}, 'model_name': 'gpt-3.5-turbo-0125', 'system_fingerprint': None, 'id': 'chatcmpl-CDCYFw3oL3oQAZaHNd9K7TBB0Amxy', 'service_tier': 'default', 'finish_reason': 'tool_calls', 'logprobs': None}, id='run--3dbe484b-4f76-4dd7-be51-4442ce19ba32-0', tool_calls=[{'name': 'find_sum', 'args': {'x': 10, 'y': 15}, 'id': 'call_TBzYtOThRCNVb5GpJbRL5kD2', 'type': 'tool_call'}], usage_metadata={'input_tokens': 132, 'output_tokens': 18, 'total_tokens': 150, 'input_token_details': {'audio': 0, 'cache_read': 0}, 'output_token_details': {'audio': 0, 'reasoning': 0}})]}\n",
            "\u001b[1m[updates]\u001b[0m {'tools': {'messages': [ToolMessage(content='25', name='find_sum', id='caa6d46c-5513-4239-94bc-944772fc4a20', tool_call_id='call_TBzYtOThRCNVb5GpJbRL5kD2')]}}\n",
            "\u001b[1m[values]\u001b[0m {'messages': [HumanMessage(content='what is the sum of 10 and 15?', additional_kwargs={}, response_metadata={}, id='6b6b17ee-7867-4de4-ae52-9d110ffda4e4'), AIMessage(content='', additional_kwargs={'tool_calls': [{'id': 'call_TBzYtOThRCNVb5GpJbRL5kD2', 'function': {'arguments': '{\"x\":10,\"y\":15}', 'name': 'find_sum'}, 'type': 'function'}], 'refusal': None}, response_metadata={'token_usage': {'completion_tokens': 18, 'prompt_tokens': 132, 'total_tokens': 150, 'completion_tokens_details': {'accepted_prediction_tokens': 0, 'audio_tokens': 0, 'reasoning_tokens': 0, 'rejected_prediction_tokens': 0}, 'prompt_tokens_details': {'audio_tokens': 0, 'cached_tokens': 0}}, 'model_name': 'gpt-3.5-turbo-0125', 'system_fingerprint': None, 'id': 'chatcmpl-CDCYFw3oL3oQAZaHNd9K7TBB0Amxy', 'service_tier': 'default', 'finish_reason': 'tool_calls', 'logprobs': None}, id='run--3dbe484b-4f76-4dd7-be51-4442ce19ba32-0', tool_calls=[{'name': 'find_sum', 'args': {'x': 10, 'y': 15}, 'id': 'call_TBzYtOThRCNVb5GpJbRL5kD2', 'type': 'tool_call'}], usage_metadata={'input_tokens': 132, 'output_tokens': 18, 'total_tokens': 150, 'input_token_details': {'audio': 0, 'cache_read': 0}, 'output_token_details': {'audio': 0, 'reasoning': 0}}), ToolMessage(content='25', name='find_sum', id='caa6d46c-5513-4239-94bc-944772fc4a20', tool_call_id='call_TBzYtOThRCNVb5GpJbRL5kD2')]}\n",
            "\u001b[1m[updates]\u001b[0m {'agent': {'messages': [AIMessage(content='The sum of 10 and 15 is 25.', additional_kwargs={'refusal': None}, response_metadata={'token_usage': {'completion_tokens': 13, 'prompt_tokens': 159, 'total_tokens': 172, 'completion_tokens_details': {'accepted_prediction_tokens': 0, 'audio_tokens': 0, 'reasoning_tokens': 0, 'rejected_prediction_tokens': 0}, 'prompt_tokens_details': {'audio_tokens': 0, 'cached_tokens': 0}}, 'model_name': 'gpt-3.5-turbo-0125', 'system_fingerprint': None, 'id': 'chatcmpl-CDCYGRC7VNbfYDj9EvBWuA2qTo1A0', 'service_tier': 'default', 'finish_reason': 'stop', 'logprobs': None}, id='run--38bd254d-d8b6-4f4b-8a4e-9df475b580b6-0', usage_metadata={'input_tokens': 159, 'output_tokens': 13, 'total_tokens': 172, 'input_token_details': {'audio': 0, 'cache_read': 0}, 'output_token_details': {'audio': 0, 'reasoning': 0}})]}}\n",
            "\u001b[1m[values]\u001b[0m {'messages': [HumanMessage(content='what is the sum of 10 and 15?', additional_kwargs={}, response_metadata={}, id='6b6b17ee-7867-4de4-ae52-9d110ffda4e4'), AIMessage(content='', additional_kwargs={'tool_calls': [{'id': 'call_TBzYtOThRCNVb5GpJbRL5kD2', 'function': {'arguments': '{\"x\":10,\"y\":15}', 'name': 'find_sum'}, 'type': 'function'}], 'refusal': None}, response_metadata={'token_usage': {'completion_tokens': 18, 'prompt_tokens': 132, 'total_tokens': 150, 'completion_tokens_details': {'accepted_prediction_tokens': 0, 'audio_tokens': 0, 'reasoning_tokens': 0, 'rejected_prediction_tokens': 0}, 'prompt_tokens_details': {'audio_tokens': 0, 'cached_tokens': 0}}, 'model_name': 'gpt-3.5-turbo-0125', 'system_fingerprint': None, 'id': 'chatcmpl-CDCYFw3oL3oQAZaHNd9K7TBB0Amxy', 'service_tier': 'default', 'finish_reason': 'tool_calls', 'logprobs': None}, id='run--3dbe484b-4f76-4dd7-be51-4442ce19ba32-0', tool_calls=[{'name': 'find_sum', 'args': {'x': 10, 'y': 15}, 'id': 'call_TBzYtOThRCNVb5GpJbRL5kD2', 'type': 'tool_call'}], usage_metadata={'input_tokens': 132, 'output_tokens': 18, 'total_tokens': 150, 'input_token_details': {'audio': 0, 'cache_read': 0}, 'output_token_details': {'audio': 0, 'reasoning': 0}}), ToolMessage(content='25', name='find_sum', id='caa6d46c-5513-4239-94bc-944772fc4a20', tool_call_id='call_TBzYtOThRCNVb5GpJbRL5kD2'), AIMessage(content='The sum of 10 and 15 is 25.', additional_kwargs={'refusal': None}, response_metadata={'token_usage': {'completion_tokens': 13, 'prompt_tokens': 159, 'total_tokens': 172, 'completion_tokens_details': {'accepted_prediction_tokens': 0, 'audio_tokens': 0, 'reasoning_tokens': 0, 'rejected_prediction_tokens': 0}, 'prompt_tokens_details': {'audio_tokens': 0, 'cached_tokens': 0}}, 'model_name': 'gpt-3.5-turbo-0125', 'system_fingerprint': None, 'id': 'chatcmpl-CDCYGRC7VNbfYDj9EvBWuA2qTo1A0', 'service_tier': 'default', 'finish_reason': 'stop', 'logprobs': None}, id='run--38bd254d-d8b6-4f4b-8a4e-9df475b580b6-0', usage_metadata={'input_tokens': 159, 'output_tokens': 13, 'total_tokens': 172, 'input_token_details': {'audio': 0, 'cache_read': 0}, 'output_token_details': {'audio': 0, 'reasoning': 0}})]}\n",
            "Agent Response: The sum of 10 and 15 is 25.\n",
            "\n",
            "--- User: user_Charlie, Query: what is the product of 4 and 7? ---\n",
            "\u001b[1m[values]\u001b[0m {'messages': [HumanMessage(content='what is the sum of 10 and 15?', additional_kwargs={}, response_metadata={}, id='6b6b17ee-7867-4de4-ae52-9d110ffda4e4'), AIMessage(content='The sum of 10 and 15 is 25.', additional_kwargs={}, response_metadata={}, id='ef0e645f-5c1d-4cae-bdc1-261e7573834e'), HumanMessage(content='what is the product of 4 and 7?', additional_kwargs={}, response_metadata={}, id='5ae0012f-d200-45fb-a00a-9c1751a6de61')]}\n",
            "\u001b[1m[updates]\u001b[0m {'agent': {'messages': [AIMessage(content='', additional_kwargs={'tool_calls': [{'id': 'call_Jh9i5pRHbrkGaA1IFcpIA0Ex', 'function': {'arguments': '{\"x\": 4, \"y\": 7}', 'name': 'find_sum'}, 'type': 'function'}, {'id': 'call_PESviHVorQdqFg5KsVaH4EUd', 'function': {'arguments': '{\"x\": 4, \"y\": 7}', 'name': 'find_product'}, 'type': 'function'}], 'refusal': None}, response_metadata={'token_usage': {'completion_tokens': 51, 'prompt_tokens': 163, 'total_tokens': 214, 'completion_tokens_details': {'accepted_prediction_tokens': 0, 'audio_tokens': 0, 'reasoning_tokens': 0, 'rejected_prediction_tokens': 0}, 'prompt_tokens_details': {'audio_tokens': 0, 'cached_tokens': 0}}, 'model_name': 'gpt-3.5-turbo-0125', 'system_fingerprint': None, 'id': 'chatcmpl-CDCYHfJNftfOVcw2zXOKvvtRuCW4g', 'service_tier': 'default', 'finish_reason': 'tool_calls', 'logprobs': None}, id='run--80030477-0d08-44c0-80bc-736b866bfae4-0', tool_calls=[{'name': 'find_sum', 'args': {'x': 4, 'y': 7}, 'id': 'call_Jh9i5pRHbrkGaA1IFcpIA0Ex', 'type': 'tool_call'}, {'name': 'find_product', 'args': {'x': 4, 'y': 7}, 'id': 'call_PESviHVorQdqFg5KsVaH4EUd', 'type': 'tool_call'}], usage_metadata={'input_tokens': 163, 'output_tokens': 51, 'total_tokens': 214, 'input_token_details': {'audio': 0, 'cache_read': 0}, 'output_token_details': {'audio': 0, 'reasoning': 0}})]}}\n",
            "\u001b[1m[values]\u001b[0m {'messages': [HumanMessage(content='what is the sum of 10 and 15?', additional_kwargs={}, response_metadata={}, id='6b6b17ee-7867-4de4-ae52-9d110ffda4e4'), AIMessage(content='The sum of 10 and 15 is 25.', additional_kwargs={}, response_metadata={}, id='ef0e645f-5c1d-4cae-bdc1-261e7573834e'), HumanMessage(content='what is the product of 4 and 7?', additional_kwargs={}, response_metadata={}, id='5ae0012f-d200-45fb-a00a-9c1751a6de61'), AIMessage(content='', additional_kwargs={'tool_calls': [{'id': 'call_Jh9i5pRHbrkGaA1IFcpIA0Ex', 'function': {'arguments': '{\"x\": 4, \"y\": 7}', 'name': 'find_sum'}, 'type': 'function'}, {'id': 'call_PESviHVorQdqFg5KsVaH4EUd', 'function': {'arguments': '{\"x\": 4, \"y\": 7}', 'name': 'find_product'}, 'type': 'function'}], 'refusal': None}, response_metadata={'token_usage': {'completion_tokens': 51, 'prompt_tokens': 163, 'total_tokens': 214, 'completion_tokens_details': {'accepted_prediction_tokens': 0, 'audio_tokens': 0, 'reasoning_tokens': 0, 'rejected_prediction_tokens': 0}, 'prompt_tokens_details': {'audio_tokens': 0, 'cached_tokens': 0}}, 'model_name': 'gpt-3.5-turbo-0125', 'system_fingerprint': None, 'id': 'chatcmpl-CDCYHfJNftfOVcw2zXOKvvtRuCW4g', 'service_tier': 'default', 'finish_reason': 'tool_calls', 'logprobs': None}, id='run--80030477-0d08-44c0-80bc-736b866bfae4-0', tool_calls=[{'name': 'find_sum', 'args': {'x': 4, 'y': 7}, 'id': 'call_Jh9i5pRHbrkGaA1IFcpIA0Ex', 'type': 'tool_call'}, {'name': 'find_product', 'args': {'x': 4, 'y': 7}, 'id': 'call_PESviHVorQdqFg5KsVaH4EUd', 'type': 'tool_call'}], usage_metadata={'input_tokens': 163, 'output_tokens': 51, 'total_tokens': 214, 'input_token_details': {'audio': 0, 'cache_read': 0}, 'output_token_details': {'audio': 0, 'reasoning': 0}})]}\n",
            "\u001b[1m[updates]\u001b[0m {'tools': {'messages': [ToolMessage(content='11', name='find_sum', tool_call_id='call_Jh9i5pRHbrkGaA1IFcpIA0Ex')]}}\n",
            "\u001b[1m[updates]\u001b[0m {'tools': {'messages': [ToolMessage(content='28', name='find_product', tool_call_id='call_PESviHVorQdqFg5KsVaH4EUd')]}}\n",
            "\u001b[1m[values]\u001b[0m {'messages': [HumanMessage(content='what is the sum of 10 and 15?', additional_kwargs={}, response_metadata={}, id='6b6b17ee-7867-4de4-ae52-9d110ffda4e4'), AIMessage(content='The sum of 10 and 15 is 25.', additional_kwargs={}, response_metadata={}, id='ef0e645f-5c1d-4cae-bdc1-261e7573834e'), HumanMessage(content='what is the product of 4 and 7?', additional_kwargs={}, response_metadata={}, id='5ae0012f-d200-45fb-a00a-9c1751a6de61'), AIMessage(content='', additional_kwargs={'tool_calls': [{'id': 'call_Jh9i5pRHbrkGaA1IFcpIA0Ex', 'function': {'arguments': '{\"x\": 4, \"y\": 7}', 'name': 'find_sum'}, 'type': 'function'}, {'id': 'call_PESviHVorQdqFg5KsVaH4EUd', 'function': {'arguments': '{\"x\": 4, \"y\": 7}', 'name': 'find_product'}, 'type': 'function'}], 'refusal': None}, response_metadata={'token_usage': {'completion_tokens': 51, 'prompt_tokens': 163, 'total_tokens': 214, 'completion_tokens_details': {'accepted_prediction_tokens': 0, 'audio_tokens': 0, 'reasoning_tokens': 0, 'rejected_prediction_tokens': 0}, 'prompt_tokens_details': {'audio_tokens': 0, 'cached_tokens': 0}}, 'model_name': 'gpt-3.5-turbo-0125', 'system_fingerprint': None, 'id': 'chatcmpl-CDCYHfJNftfOVcw2zXOKvvtRuCW4g', 'service_tier': 'default', 'finish_reason': 'tool_calls', 'logprobs': None}, id='run--80030477-0d08-44c0-80bc-736b866bfae4-0', tool_calls=[{'name': 'find_sum', 'args': {'x': 4, 'y': 7}, 'id': 'call_Jh9i5pRHbrkGaA1IFcpIA0Ex', 'type': 'tool_call'}, {'name': 'find_product', 'args': {'x': 4, 'y': 7}, 'id': 'call_PESviHVorQdqFg5KsVaH4EUd', 'type': 'tool_call'}], usage_metadata={'input_tokens': 163, 'output_tokens': 51, 'total_tokens': 214, 'input_token_details': {'audio': 0, 'cache_read': 0}, 'output_token_details': {'audio': 0, 'reasoning': 0}}), ToolMessage(content='11', name='find_sum', id='319280d6-6d82-4f2d-888f-aeff2078438f', tool_call_id='call_Jh9i5pRHbrkGaA1IFcpIA0Ex'), ToolMessage(content='28', name='find_product', id='7ffefd9a-8d20-42cd-be2b-c76a7624fb41', tool_call_id='call_PESviHVorQdqFg5KsVaH4EUd')]}\n",
            "\u001b[1m[updates]\u001b[0m {'agent': {'messages': [AIMessage(content='The sum of 4 and 7 is 11, and the product of 4 and 7 is 28.', additional_kwargs={'refusal': None}, response_metadata={'token_usage': {'completion_tokens': 26, 'prompt_tokens': 230, 'total_tokens': 256, 'completion_tokens_details': {'accepted_prediction_tokens': 0, 'audio_tokens': 0, 'reasoning_tokens': 0, 'rejected_prediction_tokens': 0}, 'prompt_tokens_details': {'audio_tokens': 0, 'cached_tokens': 0}}, 'model_name': 'gpt-3.5-turbo-0125', 'system_fingerprint': None, 'id': 'chatcmpl-CDCYIJl24KMqLBwCTIB8Q36vkjFpK', 'service_tier': 'default', 'finish_reason': 'stop', 'logprobs': None}, id='run--86ab5e67-e644-4621-96ac-22801bbafd87-0', usage_metadata={'input_tokens': 230, 'output_tokens': 26, 'total_tokens': 256, 'input_token_details': {'audio': 0, 'cache_read': 0}, 'output_token_details': {'audio': 0, 'reasoning': 0}})]}}\n",
            "\u001b[1m[values]\u001b[0m {'messages': [HumanMessage(content='what is the sum of 10 and 15?', additional_kwargs={}, response_metadata={}, id='6b6b17ee-7867-4de4-ae52-9d110ffda4e4'), AIMessage(content='The sum of 10 and 15 is 25.', additional_kwargs={}, response_metadata={}, id='ef0e645f-5c1d-4cae-bdc1-261e7573834e'), HumanMessage(content='what is the product of 4 and 7?', additional_kwargs={}, response_metadata={}, id='5ae0012f-d200-45fb-a00a-9c1751a6de61'), AIMessage(content='', additional_kwargs={'tool_calls': [{'id': 'call_Jh9i5pRHbrkGaA1IFcpIA0Ex', 'function': {'arguments': '{\"x\": 4, \"y\": 7}', 'name': 'find_sum'}, 'type': 'function'}, {'id': 'call_PESviHVorQdqFg5KsVaH4EUd', 'function': {'arguments': '{\"x\": 4, \"y\": 7}', 'name': 'find_product'}, 'type': 'function'}], 'refusal': None}, response_metadata={'token_usage': {'completion_tokens': 51, 'prompt_tokens': 163, 'total_tokens': 214, 'completion_tokens_details': {'accepted_prediction_tokens': 0, 'audio_tokens': 0, 'reasoning_tokens': 0, 'rejected_prediction_tokens': 0}, 'prompt_tokens_details': {'audio_tokens': 0, 'cached_tokens': 0}}, 'model_name': 'gpt-3.5-turbo-0125', 'system_fingerprint': None, 'id': 'chatcmpl-CDCYHfJNftfOVcw2zXOKvvtRuCW4g', 'service_tier': 'default', 'finish_reason': 'tool_calls', 'logprobs': None}, id='run--80030477-0d08-44c0-80bc-736b866bfae4-0', tool_calls=[{'name': 'find_sum', 'args': {'x': 4, 'y': 7}, 'id': 'call_Jh9i5pRHbrkGaA1IFcpIA0Ex', 'type': 'tool_call'}, {'name': 'find_product', 'args': {'x': 4, 'y': 7}, 'id': 'call_PESviHVorQdqFg5KsVaH4EUd', 'type': 'tool_call'}], usage_metadata={'input_tokens': 163, 'output_tokens': 51, 'total_tokens': 214, 'input_token_details': {'audio': 0, 'cache_read': 0}, 'output_token_details': {'audio': 0, 'reasoning': 0}}), ToolMessage(content='11', name='find_sum', id='319280d6-6d82-4f2d-888f-aeff2078438f', tool_call_id='call_Jh9i5pRHbrkGaA1IFcpIA0Ex'), ToolMessage(content='28', name='find_product', id='7ffefd9a-8d20-42cd-be2b-c76a7624fb41', tool_call_id='call_PESviHVorQdqFg5KsVaH4EUd'), AIMessage(content='The sum of 4 and 7 is 11, and the product of 4 and 7 is 28.', additional_kwargs={'refusal': None}, response_metadata={'token_usage': {'completion_tokens': 26, 'prompt_tokens': 230, 'total_tokens': 256, 'completion_tokens_details': {'accepted_prediction_tokens': 0, 'audio_tokens': 0, 'reasoning_tokens': 0, 'rejected_prediction_tokens': 0}, 'prompt_tokens_details': {'audio_tokens': 0, 'cached_tokens': 0}}, 'model_name': 'gpt-3.5-turbo-0125', 'system_fingerprint': None, 'id': 'chatcmpl-CDCYIJl24KMqLBwCTIB8Q36vkjFpK', 'service_tier': 'default', 'finish_reason': 'stop', 'logprobs': None}, id='run--86ab5e67-e644-4621-96ac-22801bbafd87-0', usage_metadata={'input_tokens': 230, 'output_tokens': 26, 'total_tokens': 256, 'input_token_details': {'audio': 0, 'cache_read': 0}, 'output_token_details': {'audio': 0, 'reasoning': 0}})]}\n",
            "Agent Response: The sum of 4 and 7 is 11, and the product of 4 and 7 is 28.\n",
            "\n",
            "--- User: user_Alice, Query: what is the sum of 50 and 100? ---\n",
            "\u001b[1m[values]\u001b[0m {'messages': [HumanMessage(content='what is the sum of 50 and 100?', additional_kwargs={}, response_metadata={}, id='e2730c5e-6561-4aa9-aa14-fbdc0d8208d8')]}\n",
            "\u001b[1m[updates]\u001b[0m {'agent': {'messages': [AIMessage(content='', additional_kwargs={'tool_calls': [{'id': 'call_q13cSOMOyvzaaNKbUAavMjNL', 'function': {'arguments': '{\"x\": 50, \"y\": 100}', 'name': 'find_sum'}, 'type': 'function'}, {'id': 'call_kX5By0ty8g608IEJ6iuLSuIZ', 'function': {'arguments': '{\"x\": 50, \"y\": 100}', 'name': 'find_product'}, 'type': 'function'}], 'refusal': None}, response_metadata={'token_usage': {'completion_tokens': 51, 'prompt_tokens': 132, 'total_tokens': 183, 'completion_tokens_details': {'accepted_prediction_tokens': 0, 'audio_tokens': 0, 'reasoning_tokens': 0, 'rejected_prediction_tokens': 0}, 'prompt_tokens_details': {'audio_tokens': 0, 'cached_tokens': 0}}, 'model_name': 'gpt-3.5-turbo-0125', 'system_fingerprint': None, 'id': 'chatcmpl-CDCYJnrhaT1qJ29908vk7iGNiBrDn', 'service_tier': 'default', 'finish_reason': 'tool_calls', 'logprobs': None}, id='run--dc882fbf-201e-42c0-8b13-ac1af767661a-0', tool_calls=[{'name': 'find_sum', 'args': {'x': 50, 'y': 100}, 'id': 'call_q13cSOMOyvzaaNKbUAavMjNL', 'type': 'tool_call'}, {'name': 'find_product', 'args': {'x': 50, 'y': 100}, 'id': 'call_kX5By0ty8g608IEJ6iuLSuIZ', 'type': 'tool_call'}], usage_metadata={'input_tokens': 132, 'output_tokens': 51, 'total_tokens': 183, 'input_token_details': {'audio': 0, 'cache_read': 0}, 'output_token_details': {'audio': 0, 'reasoning': 0}})]}}\n",
            "\u001b[1m[values]\u001b[0m {'messages': [HumanMessage(content='what is the sum of 50 and 100?', additional_kwargs={}, response_metadata={}, id='e2730c5e-6561-4aa9-aa14-fbdc0d8208d8'), AIMessage(content='', additional_kwargs={'tool_calls': [{'id': 'call_q13cSOMOyvzaaNKbUAavMjNL', 'function': {'arguments': '{\"x\": 50, \"y\": 100}', 'name': 'find_sum'}, 'type': 'function'}, {'id': 'call_kX5By0ty8g608IEJ6iuLSuIZ', 'function': {'arguments': '{\"x\": 50, \"y\": 100}', 'name': 'find_product'}, 'type': 'function'}], 'refusal': None}, response_metadata={'token_usage': {'completion_tokens': 51, 'prompt_tokens': 132, 'total_tokens': 183, 'completion_tokens_details': {'accepted_prediction_tokens': 0, 'audio_tokens': 0, 'reasoning_tokens': 0, 'rejected_prediction_tokens': 0}, 'prompt_tokens_details': {'audio_tokens': 0, 'cached_tokens': 0}}, 'model_name': 'gpt-3.5-turbo-0125', 'system_fingerprint': None, 'id': 'chatcmpl-CDCYJnrhaT1qJ29908vk7iGNiBrDn', 'service_tier': 'default', 'finish_reason': 'tool_calls', 'logprobs': None}, id='run--dc882fbf-201e-42c0-8b13-ac1af767661a-0', tool_calls=[{'name': 'find_sum', 'args': {'x': 50, 'y': 100}, 'id': 'call_q13cSOMOyvzaaNKbUAavMjNL', 'type': 'tool_call'}, {'name': 'find_product', 'args': {'x': 50, 'y': 100}, 'id': 'call_kX5By0ty8g608IEJ6iuLSuIZ', 'type': 'tool_call'}], usage_metadata={'input_tokens': 132, 'output_tokens': 51, 'total_tokens': 183, 'input_token_details': {'audio': 0, 'cache_read': 0}, 'output_token_details': {'audio': 0, 'reasoning': 0}})]}\n",
            "\u001b[1m[updates]\u001b[0m {'tools': {'messages': [ToolMessage(content='150', name='find_sum', tool_call_id='call_q13cSOMOyvzaaNKbUAavMjNL')]}}\n",
            "\u001b[1m[updates]\u001b[0m {'tools': {'messages': [ToolMessage(content='5000', name='find_product', tool_call_id='call_kX5By0ty8g608IEJ6iuLSuIZ')]}}\n",
            "\u001b[1m[values]\u001b[0m {'messages': [HumanMessage(content='what is the sum of 50 and 100?', additional_kwargs={}, response_metadata={}, id='e2730c5e-6561-4aa9-aa14-fbdc0d8208d8'), AIMessage(content='', additional_kwargs={'tool_calls': [{'id': 'call_q13cSOMOyvzaaNKbUAavMjNL', 'function': {'arguments': '{\"x\": 50, \"y\": 100}', 'name': 'find_sum'}, 'type': 'function'}, {'id': 'call_kX5By0ty8g608IEJ6iuLSuIZ', 'function': {'arguments': '{\"x\": 50, \"y\": 100}', 'name': 'find_product'}, 'type': 'function'}], 'refusal': None}, response_metadata={'token_usage': {'completion_tokens': 51, 'prompt_tokens': 132, 'total_tokens': 183, 'completion_tokens_details': {'accepted_prediction_tokens': 0, 'audio_tokens': 0, 'reasoning_tokens': 0, 'rejected_prediction_tokens': 0}, 'prompt_tokens_details': {'audio_tokens': 0, 'cached_tokens': 0}}, 'model_name': 'gpt-3.5-turbo-0125', 'system_fingerprint': None, 'id': 'chatcmpl-CDCYJnrhaT1qJ29908vk7iGNiBrDn', 'service_tier': 'default', 'finish_reason': 'tool_calls', 'logprobs': None}, id='run--dc882fbf-201e-42c0-8b13-ac1af767661a-0', tool_calls=[{'name': 'find_sum', 'args': {'x': 50, 'y': 100}, 'id': 'call_q13cSOMOyvzaaNKbUAavMjNL', 'type': 'tool_call'}, {'name': 'find_product', 'args': {'x': 50, 'y': 100}, 'id': 'call_kX5By0ty8g608IEJ6iuLSuIZ', 'type': 'tool_call'}], usage_metadata={'input_tokens': 132, 'output_tokens': 51, 'total_tokens': 183, 'input_token_details': {'audio': 0, 'cache_read': 0}, 'output_token_details': {'audio': 0, 'reasoning': 0}}), ToolMessage(content='150', name='find_sum', id='a0362b04-eb7d-40a7-ab10-0e46ed9b9075', tool_call_id='call_q13cSOMOyvzaaNKbUAavMjNL'), ToolMessage(content='5000', name='find_product', id='88b778ad-8336-44e0-8e01-4e07cb3f5f46', tool_call_id='call_kX5By0ty8g608IEJ6iuLSuIZ')]}\n",
            "\u001b[1m[updates]\u001b[0m {'agent': {'messages': [AIMessage(content='The sum of 50 and 100 is 150.', additional_kwargs={'refusal': None}, response_metadata={'token_usage': {'completion_tokens': 13, 'prompt_tokens': 200, 'total_tokens': 213, 'completion_tokens_details': {'accepted_prediction_tokens': 0, 'audio_tokens': 0, 'reasoning_tokens': 0, 'rejected_prediction_tokens': 0}, 'prompt_tokens_details': {'audio_tokens': 0, 'cached_tokens': 0}}, 'model_name': 'gpt-3.5-turbo-0125', 'system_fingerprint': None, 'id': 'chatcmpl-CDCYJERhBPWFJZuXSovsawy8ht2K3', 'service_tier': 'default', 'finish_reason': 'stop', 'logprobs': None}, id='run--9a61b3ba-c5c2-49e7-b373-8922d80f7a47-0', usage_metadata={'input_tokens': 200, 'output_tokens': 13, 'total_tokens': 213, 'input_token_details': {'audio': 0, 'cache_read': 0}, 'output_token_details': {'audio': 0, 'reasoning': 0}})]}}\n",
            "\u001b[1m[values]\u001b[0m {'messages': [HumanMessage(content='what is the sum of 50 and 100?', additional_kwargs={}, response_metadata={}, id='e2730c5e-6561-4aa9-aa14-fbdc0d8208d8'), AIMessage(content='', additional_kwargs={'tool_calls': [{'id': 'call_q13cSOMOyvzaaNKbUAavMjNL', 'function': {'arguments': '{\"x\": 50, \"y\": 100}', 'name': 'find_sum'}, 'type': 'function'}, {'id': 'call_kX5By0ty8g608IEJ6iuLSuIZ', 'function': {'arguments': '{\"x\": 50, \"y\": 100}', 'name': 'find_product'}, 'type': 'function'}], 'refusal': None}, response_metadata={'token_usage': {'completion_tokens': 51, 'prompt_tokens': 132, 'total_tokens': 183, 'completion_tokens_details': {'accepted_prediction_tokens': 0, 'audio_tokens': 0, 'reasoning_tokens': 0, 'rejected_prediction_tokens': 0}, 'prompt_tokens_details': {'audio_tokens': 0, 'cached_tokens': 0}}, 'model_name': 'gpt-3.5-turbo-0125', 'system_fingerprint': None, 'id': 'chatcmpl-CDCYJnrhaT1qJ29908vk7iGNiBrDn', 'service_tier': 'default', 'finish_reason': 'tool_calls', 'logprobs': None}, id='run--dc882fbf-201e-42c0-8b13-ac1af767661a-0', tool_calls=[{'name': 'find_sum', 'args': {'x': 50, 'y': 100}, 'id': 'call_q13cSOMOyvzaaNKbUAavMjNL', 'type': 'tool_call'}, {'name': 'find_product', 'args': {'x': 50, 'y': 100}, 'id': 'call_kX5By0ty8g608IEJ6iuLSuIZ', 'type': 'tool_call'}], usage_metadata={'input_tokens': 132, 'output_tokens': 51, 'total_tokens': 183, 'input_token_details': {'audio': 0, 'cache_read': 0}, 'output_token_details': {'audio': 0, 'reasoning': 0}}), ToolMessage(content='150', name='find_sum', id='a0362b04-eb7d-40a7-ab10-0e46ed9b9075', tool_call_id='call_q13cSOMOyvzaaNKbUAavMjNL'), ToolMessage(content='5000', name='find_product', id='88b778ad-8336-44e0-8e01-4e07cb3f5f46', tool_call_id='call_kX5By0ty8g608IEJ6iuLSuIZ'), AIMessage(content='The sum of 50 and 100 is 150.', additional_kwargs={'refusal': None}, response_metadata={'token_usage': {'completion_tokens': 13, 'prompt_tokens': 200, 'total_tokens': 213, 'completion_tokens_details': {'accepted_prediction_tokens': 0, 'audio_tokens': 0, 'reasoning_tokens': 0, 'rejected_prediction_tokens': 0}, 'prompt_tokens_details': {'audio_tokens': 0, 'cached_tokens': 0}}, 'model_name': 'gpt-3.5-turbo-0125', 'system_fingerprint': None, 'id': 'chatcmpl-CDCYJERhBPWFJZuXSovsawy8ht2K3', 'service_tier': 'default', 'finish_reason': 'stop', 'logprobs': None}, id='run--9a61b3ba-c5c2-49e7-b373-8922d80f7a47-0', usage_metadata={'input_tokens': 200, 'output_tokens': 13, 'total_tokens': 213, 'input_token_details': {'audio': 0, 'cache_read': 0}, 'output_token_details': {'audio': 0, 'reasoning': 0}})]}\n",
            "Agent Response: The sum of 50 and 100 is 150.\n",
            "\n",
            "--- User: user_Alice, Query: what is the product of 9 and 9? ---\n",
            "\u001b[1m[values]\u001b[0m {'messages': [HumanMessage(content='what is the sum of 50 and 100?', additional_kwargs={}, response_metadata={}, id='e2730c5e-6561-4aa9-aa14-fbdc0d8208d8'), AIMessage(content='The sum of 50 and 100 is 150.', additional_kwargs={}, response_metadata={}, id='6e3629a8-6fe7-402c-b840-86411c62a670'), HumanMessage(content='what is the product of 9 and 9?', additional_kwargs={}, response_metadata={}, id='1bac7c21-f4d2-4e2a-bfcc-5a7181dafcdf')]}\n",
            "\u001b[1m[updates]\u001b[0m {'agent': {'messages': [AIMessage(content='', additional_kwargs={'tool_calls': [{'id': 'call_oQby2f7JhGAzzjzqGQIt8HhC', 'function': {'arguments': '{\"x\": 50, \"y\": 100}', 'name': 'find_sum'}, 'type': 'function'}, {'id': 'call_hhlxAgy45kF0CnpS5vdb4mJb', 'function': {'arguments': '{\"x\": 9, \"y\": 9}', 'name': 'find_product'}, 'type': 'function'}], 'refusal': None}, response_metadata={'token_usage': {'completion_tokens': 51, 'prompt_tokens': 163, 'total_tokens': 214, 'completion_tokens_details': {'accepted_prediction_tokens': 0, 'audio_tokens': 0, 'reasoning_tokens': 0, 'rejected_prediction_tokens': 0}, 'prompt_tokens_details': {'audio_tokens': 0, 'cached_tokens': 0}}, 'model_name': 'gpt-3.5-turbo-0125', 'system_fingerprint': None, 'id': 'chatcmpl-CDCYK83AzYbGJaUu8h2GvDP8uZj5B', 'service_tier': 'default', 'finish_reason': 'tool_calls', 'logprobs': None}, id='run--e55673a0-96a4-4e06-b39a-eefe55700d5b-0', tool_calls=[{'name': 'find_sum', 'args': {'x': 50, 'y': 100}, 'id': 'call_oQby2f7JhGAzzjzqGQIt8HhC', 'type': 'tool_call'}, {'name': 'find_product', 'args': {'x': 9, 'y': 9}, 'id': 'call_hhlxAgy45kF0CnpS5vdb4mJb', 'type': 'tool_call'}], usage_metadata={'input_tokens': 163, 'output_tokens': 51, 'total_tokens': 214, 'input_token_details': {'audio': 0, 'cache_read': 0}, 'output_token_details': {'audio': 0, 'reasoning': 0}})]}}\n",
            "\u001b[1m[values]\u001b[0m {'messages': [HumanMessage(content='what is the sum of 50 and 100?', additional_kwargs={}, response_metadata={}, id='e2730c5e-6561-4aa9-aa14-fbdc0d8208d8'), AIMessage(content='The sum of 50 and 100 is 150.', additional_kwargs={}, response_metadata={}, id='6e3629a8-6fe7-402c-b840-86411c62a670'), HumanMessage(content='what is the product of 9 and 9?', additional_kwargs={}, response_metadata={}, id='1bac7c21-f4d2-4e2a-bfcc-5a7181dafcdf'), AIMessage(content='', additional_kwargs={'tool_calls': [{'id': 'call_oQby2f7JhGAzzjzqGQIt8HhC', 'function': {'arguments': '{\"x\": 50, \"y\": 100}', 'name': 'find_sum'}, 'type': 'function'}, {'id': 'call_hhlxAgy45kF0CnpS5vdb4mJb', 'function': {'arguments': '{\"x\": 9, \"y\": 9}', 'name': 'find_product'}, 'type': 'function'}], 'refusal': None}, response_metadata={'token_usage': {'completion_tokens': 51, 'prompt_tokens': 163, 'total_tokens': 214, 'completion_tokens_details': {'accepted_prediction_tokens': 0, 'audio_tokens': 0, 'reasoning_tokens': 0, 'rejected_prediction_tokens': 0}, 'prompt_tokens_details': {'audio_tokens': 0, 'cached_tokens': 0}}, 'model_name': 'gpt-3.5-turbo-0125', 'system_fingerprint': None, 'id': 'chatcmpl-CDCYK83AzYbGJaUu8h2GvDP8uZj5B', 'service_tier': 'default', 'finish_reason': 'tool_calls', 'logprobs': None}, id='run--e55673a0-96a4-4e06-b39a-eefe55700d5b-0', tool_calls=[{'name': 'find_sum', 'args': {'x': 50, 'y': 100}, 'id': 'call_oQby2f7JhGAzzjzqGQIt8HhC', 'type': 'tool_call'}, {'name': 'find_product', 'args': {'x': 9, 'y': 9}, 'id': 'call_hhlxAgy45kF0CnpS5vdb4mJb', 'type': 'tool_call'}], usage_metadata={'input_tokens': 163, 'output_tokens': 51, 'total_tokens': 214, 'input_token_details': {'audio': 0, 'cache_read': 0}, 'output_token_details': {'audio': 0, 'reasoning': 0}})]}\n",
            "\u001b[1m[updates]\u001b[0m {'tools': {'messages': [ToolMessage(content='150', name='find_sum', tool_call_id='call_oQby2f7JhGAzzjzqGQIt8HhC')]}}\n",
            "\u001b[1m[updates]\u001b[0m {'tools': {'messages': [ToolMessage(content='81', name='find_product', tool_call_id='call_hhlxAgy45kF0CnpS5vdb4mJb')]}}\n",
            "\u001b[1m[values]\u001b[0m {'messages': [HumanMessage(content='what is the sum of 50 and 100?', additional_kwargs={}, response_metadata={}, id='e2730c5e-6561-4aa9-aa14-fbdc0d8208d8'), AIMessage(content='The sum of 50 and 100 is 150.', additional_kwargs={}, response_metadata={}, id='6e3629a8-6fe7-402c-b840-86411c62a670'), HumanMessage(content='what is the product of 9 and 9?', additional_kwargs={}, response_metadata={}, id='1bac7c21-f4d2-4e2a-bfcc-5a7181dafcdf'), AIMessage(content='', additional_kwargs={'tool_calls': [{'id': 'call_oQby2f7JhGAzzjzqGQIt8HhC', 'function': {'arguments': '{\"x\": 50, \"y\": 100}', 'name': 'find_sum'}, 'type': 'function'}, {'id': 'call_hhlxAgy45kF0CnpS5vdb4mJb', 'function': {'arguments': '{\"x\": 9, \"y\": 9}', 'name': 'find_product'}, 'type': 'function'}], 'refusal': None}, response_metadata={'token_usage': {'completion_tokens': 51, 'prompt_tokens': 163, 'total_tokens': 214, 'completion_tokens_details': {'accepted_prediction_tokens': 0, 'audio_tokens': 0, 'reasoning_tokens': 0, 'rejected_prediction_tokens': 0}, 'prompt_tokens_details': {'audio_tokens': 0, 'cached_tokens': 0}}, 'model_name': 'gpt-3.5-turbo-0125', 'system_fingerprint': None, 'id': 'chatcmpl-CDCYK83AzYbGJaUu8h2GvDP8uZj5B', 'service_tier': 'default', 'finish_reason': 'tool_calls', 'logprobs': None}, id='run--e55673a0-96a4-4e06-b39a-eefe55700d5b-0', tool_calls=[{'name': 'find_sum', 'args': {'x': 50, 'y': 100}, 'id': 'call_oQby2f7JhGAzzjzqGQIt8HhC', 'type': 'tool_call'}, {'name': 'find_product', 'args': {'x': 9, 'y': 9}, 'id': 'call_hhlxAgy45kF0CnpS5vdb4mJb', 'type': 'tool_call'}], usage_metadata={'input_tokens': 163, 'output_tokens': 51, 'total_tokens': 214, 'input_token_details': {'audio': 0, 'cache_read': 0}, 'output_token_details': {'audio': 0, 'reasoning': 0}}), ToolMessage(content='150', name='find_sum', id='d46e7eed-943f-45e4-a48f-7d6b9c79a0a5', tool_call_id='call_oQby2f7JhGAzzjzqGQIt8HhC'), ToolMessage(content='81', name='find_product', id='594ed840-4a83-47c2-bc96-8c700fa4e317', tool_call_id='call_hhlxAgy45kF0CnpS5vdb4mJb')]}\n",
            "\u001b[1m[updates]\u001b[0m {'agent': {'messages': [AIMessage(content='The sum of 50 and 100 is 150, and the product of 9 and 9 is 81.', additional_kwargs={'refusal': None}, response_metadata={'token_usage': {'completion_tokens': 26, 'prompt_tokens': 230, 'total_tokens': 256, 'completion_tokens_details': {'accepted_prediction_tokens': 0, 'audio_tokens': 0, 'reasoning_tokens': 0, 'rejected_prediction_tokens': 0}, 'prompt_tokens_details': {'audio_tokens': 0, 'cached_tokens': 0}}, 'model_name': 'gpt-3.5-turbo-0125', 'system_fingerprint': None, 'id': 'chatcmpl-CDCYLI1jiSUCRZ5CuFW7nQFrG3rAg', 'service_tier': 'default', 'finish_reason': 'stop', 'logprobs': None}, id='run--6dbd86f9-1099-479f-b1c4-b393bcd7647f-0', usage_metadata={'input_tokens': 230, 'output_tokens': 26, 'total_tokens': 256, 'input_token_details': {'audio': 0, 'cache_read': 0}, 'output_token_details': {'audio': 0, 'reasoning': 0}})]}}\n",
            "\u001b[1m[values]\u001b[0m {'messages': [HumanMessage(content='what is the sum of 50 and 100?', additional_kwargs={}, response_metadata={}, id='e2730c5e-6561-4aa9-aa14-fbdc0d8208d8'), AIMessage(content='The sum of 50 and 100 is 150.', additional_kwargs={}, response_metadata={}, id='6e3629a8-6fe7-402c-b840-86411c62a670'), HumanMessage(content='what is the product of 9 and 9?', additional_kwargs={}, response_metadata={}, id='1bac7c21-f4d2-4e2a-bfcc-5a7181dafcdf'), AIMessage(content='', additional_kwargs={'tool_calls': [{'id': 'call_oQby2f7JhGAzzjzqGQIt8HhC', 'function': {'arguments': '{\"x\": 50, \"y\": 100}', 'name': 'find_sum'}, 'type': 'function'}, {'id': 'call_hhlxAgy45kF0CnpS5vdb4mJb', 'function': {'arguments': '{\"x\": 9, \"y\": 9}', 'name': 'find_product'}, 'type': 'function'}], 'refusal': None}, response_metadata={'token_usage': {'completion_tokens': 51, 'prompt_tokens': 163, 'total_tokens': 214, 'completion_tokens_details': {'accepted_prediction_tokens': 0, 'audio_tokens': 0, 'reasoning_tokens': 0, 'rejected_prediction_tokens': 0}, 'prompt_tokens_details': {'audio_tokens': 0, 'cached_tokens': 0}}, 'model_name': 'gpt-3.5-turbo-0125', 'system_fingerprint': None, 'id': 'chatcmpl-CDCYK83AzYbGJaUu8h2GvDP8uZj5B', 'service_tier': 'default', 'finish_reason': 'tool_calls', 'logprobs': None}, id='run--e55673a0-96a4-4e06-b39a-eefe55700d5b-0', tool_calls=[{'name': 'find_sum', 'args': {'x': 50, 'y': 100}, 'id': 'call_oQby2f7JhGAzzjzqGQIt8HhC', 'type': 'tool_call'}, {'name': 'find_product', 'args': {'x': 9, 'y': 9}, 'id': 'call_hhlxAgy45kF0CnpS5vdb4mJb', 'type': 'tool_call'}], usage_metadata={'input_tokens': 163, 'output_tokens': 51, 'total_tokens': 214, 'input_token_details': {'audio': 0, 'cache_read': 0}, 'output_token_details': {'audio': 0, 'reasoning': 0}}), ToolMessage(content='150', name='find_sum', id='d46e7eed-943f-45e4-a48f-7d6b9c79a0a5', tool_call_id='call_oQby2f7JhGAzzjzqGQIt8HhC'), ToolMessage(content='81', name='find_product', id='594ed840-4a83-47c2-bc96-8c700fa4e317', tool_call_id='call_hhlxAgy45kF0CnpS5vdb4mJb'), AIMessage(content='The sum of 50 and 100 is 150, and the product of 9 and 9 is 81.', additional_kwargs={'refusal': None}, response_metadata={'token_usage': {'completion_tokens': 26, 'prompt_tokens': 230, 'total_tokens': 256, 'completion_tokens_details': {'accepted_prediction_tokens': 0, 'audio_tokens': 0, 'reasoning_tokens': 0, 'rejected_prediction_tokens': 0}, 'prompt_tokens_details': {'audio_tokens': 0, 'cached_tokens': 0}}, 'model_name': 'gpt-3.5-turbo-0125', 'system_fingerprint': None, 'id': 'chatcmpl-CDCYLI1jiSUCRZ5CuFW7nQFrG3rAg', 'service_tier': 'default', 'finish_reason': 'stop', 'logprobs': None}, id='run--6dbd86f9-1099-479f-b1c4-b393bcd7647f-0', usage_metadata={'input_tokens': 230, 'output_tokens': 26, 'total_tokens': 256, 'input_token_details': {'audio': 0, 'cache_read': 0}, 'output_token_details': {'audio': 0, 'reasoning': 0}})]}\n",
            "Agent Response: The sum of 50 and 100 is 150, and the product of 9 and 9 is 81.\n",
            "\n",
            "\n",
            "--- Final Conversation History ---\n",
            "History for user_Charlie:\n",
            "  human: what is the sum of 10 and 15?\n",
            "  ai: The sum of 10 and 15 is 25.\n",
            "  human: what is the product of 4 and 7?\n",
            "  ai: The sum of 4 and 7 is 11, and the product of 4 and 7 is 28.\n",
            "--------------------\n",
            "History for user_Alice:\n",
            "  human: what is the sum of 50 and 100?\n",
            "  ai: The sum of 50 and 100 is 150.\n",
            "  human: what is the product of 9 and 9?\n",
            "  ai: The sum of 50 and 100 is 150, and the product of 9 and 9 is 81.\n",
            "--------------------\n"
          ]
        }
      ]
    },
    {
      "cell_type": "markdown",
      "metadata": {
        "id": "c99b08a0"
      },
      "source": [
        "## Introduce a basic data access simulation (optional)\n",
        "\n",
        "### Subtask:\n",
        "To simulate data access control, we can create a simple dictionary representing a vector store with data associated with different user IDs.\n"
      ]
    },
    {
      "cell_type": "markdown",
      "metadata": {
        "id": "821c8aa1"
      },
      "source": [
        "**Reasoning**:\n",
        "Create and populate the user_data_store dictionary and then print it to verify its contents.\n",
        "\n"
      ]
    },
    {
      "cell_type": "code",
      "metadata": {
        "colab": {
          "base_uri": "https://localhost:8080/"
        },
        "id": "6e442188",
        "outputId": "fdad24f5-0ded-4bc8-9fe5-8dd37179182e"
      },
      "source": [
        "user_data_store = {\n",
        "    \"user_Alice\": [\"Alice's document 1\", \"Alice's document 2\"],\n",
        "    \"user_Charlie\": [\"Charlie's report\"],\n",
        "    \"user_Bob\": [\"Bob's spreadsheet\", \"Bob's presentation\"]\n",
        "}\n",
        "print(user_data_store)"
      ],
      "execution_count": 18,
      "outputs": [
        {
          "output_type": "stream",
          "name": "stdout",
          "text": [
            "{'user_Alice': [\"Alice's document 1\", \"Alice's document 2\"], 'user_Charlie': [\"Charlie's report\"], 'user_Bob': [\"Bob's spreadsheet\", \"Bob's presentation\"]}\n"
          ]
        }
      ]
    },
    {
      "cell_type": "markdown",
      "metadata": {
        "id": "f9c05101"
      },
      "source": [
        "## Modify the agent to use simulated data access (optional)\n",
        "\n",
        "### Subtask:\n",
        "Modify the agent to use simulated data access (optional)\n"
      ]
    },
    {
      "cell_type": "markdown",
      "metadata": {
        "id": "ec5b9328"
      },
      "source": [
        "**Reasoning**:\n",
        "Define a new tool function `retrieve_user_data` to access the simulated user data store, and then add this tool to the agent's tool list.\n",
        "\n"
      ]
    },
    {
      "cell_type": "code",
      "metadata": {
        "id": "861228e7"
      },
      "source": [
        "from langchain_core.tools import tool\n",
        "\n",
        "@tool\n",
        "def retrieve_user_data(user_id: str) -> list:\n",
        "  \"\"\"\n",
        "  Retrieves a list of documents accessible by the given user ID.\n",
        "  \"\"\"\n",
        "  return user_data_store.get(user_id, [\"No data found for this user.\"])\n",
        "\n",
        "# Add the new tool to the agent tools\n",
        "agent_tools.append(retrieve_user_data)\n",
        "\n",
        "# Recreate the agent graph with the updated tool list\n",
        "agent_graph = create_react_agent(\n",
        "    model,\n",
        "    prompt=system_prompt,\n",
        "    tools=agent_tools\n",
        ")"
      ],
      "execution_count": 19,
      "outputs": []
    },
    {
      "cell_type": "markdown",
      "metadata": {
        "id": "72f6d048"
      },
      "source": [
        "**Reasoning**:\n",
        "Update the system prompt to inform the agent about the new tool and instruct it to use it when necessary, then finish the task.\n",
        "\n"
      ]
    },
    {
      "cell_type": "code",
      "metadata": {
        "id": "6b406672"
      },
      "source": [
        "from langchain_core.messages import SystemMessage\n",
        "\n",
        "# Update the system prompt\n",
        "system_prompt = SystemMessage(\n",
        "    \"\"\"You are a Math genius who can solve math problems and also retrieve user-specific data.\n",
        "    Solve the math problems provided by the user, by using only tools available.\n",
        "    If a user asks about their data or documents, use the 'retrieve_user_data' tool with their user ID.\n",
        "    Do not solve the problem yourself or access data directly.\"\"\"\n",
        ")\n",
        "\n",
        "# Recreate the agent graph with the updated system prompt\n",
        "agent_graph = create_react_agent(\n",
        "    model,\n",
        "    prompt=system_prompt,\n",
        "    tools=agent_tools\n",
        ")"
      ],
      "execution_count": 20,
      "outputs": []
    },
    {
      "cell_type": "markdown",
      "metadata": {
        "id": "14f90434"
      },
      "source": [
        "## Summary:\n",
        "\n",
        "### Data Analysis Key Findings\n",
        "\n",
        "*   A basic user identification system was implemented by creating a `current_user_id` variable, although the attempt to add a markdown explanation initially failed due to using the incorrect command.\n",
        "*   An in-memory Python dictionary named `conversation_history` was successfully initialized to store conversation history for different users, with each user ID mapping to their unique list of messages.\n",
        "*   A function `handle_user_query` was created to manage user-specific conversation history, append new messages, invoke the agent with the relevant history, and update the history with the agent's response.\n",
        "*   Simulation with multiple users demonstrated that the agent successfully handled separate conversations and maintained distinct conversation histories for each user in the `conversation_history` dictionary.\n",
        "*   A dictionary `user_data_store` was successfully created and populated to simulate user-specific data access.\n",
        "*   A new tool function `retrieve_user_data` was defined and added to the agent's toolset to simulate retrieving user-specific data from the `user_data_store`.\n",
        "*   The agent's system prompt was updated to instruct the agent to use the `retrieve_user_data` tool when a user asks about their data, ensuring the agent utilizes the simulated data access mechanism.\n",
        "\n",
        "### Insights or Next Steps\n",
        "\n",
        "*   Integrate a more robust user authentication system and persistent storage for conversation history (e.g., database) for a production environment.\n",
        "*   Further test the agent's ability to use the `retrieve_user_data` tool in simulated conversations with different users, including cases where a user's data is not found.\n"
      ]
    }
  ]
}