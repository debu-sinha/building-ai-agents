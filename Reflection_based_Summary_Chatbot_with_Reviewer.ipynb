{
  "nbformat": 4,
  "nbformat_minor": 0,
  "metadata": {
    "colab": {
      "provenance": [],
      "authorship_tag": "ABX9TyMzeZRCJ1FA1o4QNcwS2831",
      "include_colab_link": true
    },
    "kernelspec": {
      "name": "python3",
      "display_name": "Python 3"
    },
    "language_info": {
      "name": "python"
    }
  },
  "cells": [
    {
      "cell_type": "markdown",
      "metadata": {
        "id": "view-in-github",
        "colab_type": "text"
      },
      "source": [
        "<a href=\"https://colab.research.google.com/github/debu-sinha/building-ai-agents/blob/main/Reflection_based_Summary_Chatbot_with_Reviewer.ipynb\" target=\"_parent\"><img src=\"https://colab.research.google.com/assets/colab-badge.svg\" alt=\"Open In Colab\"/></a>"
      ]
    },
    {
      "cell_type": "markdown",
      "source": [
        "# Install libraries"
      ],
      "metadata": {
        "id": "TzYq29TDDyel"
      }
    },
    {
      "cell_type": "code",
      "execution_count": null,
      "metadata": {
        "id": "rt-txfHhvjLC"
      },
      "outputs": [],
      "source": [
        "!pip install langchain\n",
        "!pip install langchain-openai\n",
        "!pip install langgraph\n",
        "!pip install pypdf"
      ]
    },
    {
      "cell_type": "markdown",
      "source": [
        "# Setup our Summarizer and Reviewer models"
      ],
      "metadata": {
        "id": "gp3XP_48D8Az"
      }
    },
    {
      "cell_type": "code",
      "source": [
        "from langchain_openai import ChatOpenAI\n",
        "from google.colab import userdata\n",
        "\n",
        "summarizer_model = ChatOpenAI(model_name=\"gpt-4o-mini\", openai_api_key=userdata.get('oai'))\n",
        "print(summarizer_model.invoke(\"Hello world!\"))\n",
        "\n",
        "reviewer_model = ChatOpenAI(model_name=\"gpt-4o\", openai_api_key=userdata.get('oai'))\n",
        "print(reviewer_model.invoke(\"Hello world!\"))"
      ],
      "metadata": {
        "colab": {
          "base_uri": "https://localhost:8080/"
        },
        "id": "axuxLfQovvaG",
        "outputId": "1bf03eaf-ea52-423f-b694-39305a46b6da"
      },
      "execution_count": null,
      "outputs": [
        {
          "output_type": "stream",
          "name": "stdout",
          "text": [
            "content='Hello! How can I assist you today?' additional_kwargs={'refusal': None} response_metadata={'token_usage': {'completion_tokens': 9, 'prompt_tokens': 10, 'total_tokens': 19, 'completion_tokens_details': {'accepted_prediction_tokens': 0, 'audio_tokens': 0, 'reasoning_tokens': 0, 'rejected_prediction_tokens': 0}, 'prompt_tokens_details': {'audio_tokens': 0, 'cached_tokens': 0}}, 'model_name': 'gpt-4o-mini-2024-07-18', 'system_fingerprint': 'fp_560af6e559', 'id': 'chatcmpl-CKnU3xuApRQBuRdM1vVDFM62oTuNX', 'service_tier': 'default', 'finish_reason': 'stop', 'logprobs': None} id='run--dd9ac7c8-5c60-4130-bf27-b1f7b1fa2beb-0' usage_metadata={'input_tokens': 10, 'output_tokens': 9, 'total_tokens': 19, 'input_token_details': {'audio': 0, 'cache_read': 0}, 'output_token_details': {'audio': 0, 'reasoning': 0}}\n",
            "content='Hello! How can I assist you today?' additional_kwargs={'refusal': None} response_metadata={'token_usage': {'completion_tokens': 9, 'prompt_tokens': 10, 'total_tokens': 19, 'completion_tokens_details': {'accepted_prediction_tokens': 0, 'audio_tokens': 0, 'reasoning_tokens': 0, 'rejected_prediction_tokens': 0}, 'prompt_tokens_details': {'audio_tokens': 0, 'cached_tokens': 0}}, 'model_name': 'gpt-4o-2024-08-06', 'system_fingerprint': 'fp_cbf1785567', 'id': 'chatcmpl-CKnU4nb9HdjwKylAlgloKTscIwnDu', 'service_tier': 'default', 'finish_reason': 'stop', 'logprobs': None} id='run--1efbde6d-1e10-446c-840b-df1691083116-0' usage_metadata={'input_tokens': 10, 'output_tokens': 9, 'total_tokens': 19, 'input_token_details': {'audio': 0, 'cache_read': 0}, 'output_token_details': {'audio': 0, 'reasoning': 0}}\n"
          ]
        }
      ]
    },
    {
      "cell_type": "markdown",
      "source": [
        "## Define the system prompts"
      ],
      "metadata": {
        "id": "l487RDk9EICM"
      }
    },
    {
      "cell_type": "code",
      "source": [
        "summarizer_prompt=\"\"\"\n",
        "You are an document summarizer who can summarize a document provide to you.\n",
        "For the input provided, create a summary with less than 50 words.\n",
        "If the user has provides critique, responsed with a revised version of your previous attempts\n",
        "\"\"\"\n",
        "\n",
        "reviewer_prompt=\"\"\"\n",
        "You are a reviewer grading summaries for an article.\n",
        "Compare the user input document and generated summary.\n",
        "Check if the summary accurately reflects the contents of the document.\n",
        "Provide recommendations for improvement in less than 50 words.\n",
        "\"\"\""
      ],
      "metadata": {
        "id": "QtPBGUady_Vn"
      },
      "execution_count": null,
      "outputs": []
    },
    {
      "cell_type": "markdown",
      "source": [
        "## Defining our langgraph agent with State management\n"
      ],
      "metadata": {
        "id": "mnm3YdQwEOI0"
      }
    },
    {
      "cell_type": "code",
      "source": [
        "from typing_extensions import TypedDict, Annotated\n",
        "import operator\n",
        "from langgraph.graph import StateGraph, END\n",
        "from langgraph.checkpoint.memory import MemorySaver\n",
        "from langchain_core.messages import SystemMessage, HumanMessage, AIMessage, AnyMessage\n",
        "\n",
        "class Chat_Summarizer_Agent_State(TypedDict):\n",
        "  messages: Annotated[list[AnyMessage], operator.add]\n",
        "\n",
        "class Summarizer_Chatbot:\n",
        "  def __init__(self, summarizer_model, reviewer_model, summarizer_system_prompt, reviewer_system_prompt, debug):\n",
        "    self.summarizer_model = summarizer_model\n",
        "    self.reviewer_model = reviewer_model\n",
        "    self.summarizer_system_prompt = summarizer_system_prompt\n",
        "    self.reviewer_system_prompt = reviewer_system_prompt\n",
        "    self.debug = debug\n",
        "\n",
        "    agent_graph = StateGraph(Chat_Summarizer_Agent_State)\n",
        "    agent_graph.add_node(\"summarizer\", self.call_summarizer)\n",
        "    agent_graph.add_node(\"reviewer\", self.call_reviewer)\n",
        "\n",
        "    agent_graph.add_conditional_edges(\"summarizer\",\n",
        "                                      self.should_continue,\n",
        "                                      {True: \"reviewer\", False: END})\n",
        "    agent_graph.add_edge(\"reviewer\", \"summarizer\")\n",
        "    agent_graph.set_entry_point(\"summarizer\")\n",
        "\n",
        "    memory = MemorySaver()\n",
        "\n",
        "    self.agent = agent_graph.compile(checkpointer=memory)\n",
        "\n",
        "  def call_summarizer(self, state: Chat_Summarizer_Agent_State):\n",
        "    # Read messages from the state and prepend the prompt\n",
        "    messages = [SystemMessage(content=self.summarizer_system_prompt)] + state[\"messages\"]\n",
        "    response = self.summarizer_model.invoke(messages)\n",
        "\n",
        "    if self.debug:\n",
        "      print(f\"Summarizer: {response.content}\")\n",
        "    return {\"messages\": [response]}\n",
        "\n",
        "  def call_reviewer(self, state: Chat_Summarizer_Agent_State):\n",
        "    # Read messages from the state and prepend the prompt\n",
        "    messages = [SystemMessage(content=self.reviewer_system_prompt)] + state[\"messages\"]\n",
        "    response = self.reviewer_model.invoke(messages)\n",
        "\n",
        "    if self.debug:\n",
        "      print(f\"********************************** \\n Reviewer: {response.content}\")\n",
        "    return {\"messages\": [response]}\n",
        "\n",
        "  def should_continue(self, state: Chat_Summarizer_Agent_State):\n",
        "    total_reviews = len(state[\"messages\"])\n",
        "    if self.debug:\n",
        "      print(f\"Iteration Number: \\n {total_reviews/2}\")\n",
        "\n",
        "    if total_reviews / 2 > 4:\n",
        "      return False\n",
        "    else:\n",
        "      return True\n"
      ],
      "metadata": {
        "id": "ag8IGbyFxJy2"
      },
      "execution_count": 45,
      "outputs": []
    },
    {
      "cell_type": "code",
      "source": [
        "from IPython.display import Image\n",
        "from langchain_community.document_loaders import PyPDFLoader\n",
        "\n",
        "# Setup the summary chatbot\n",
        "summary_chatbot = Summarizer_Chatbot(summarizer_model,\n",
        "                                     reviewer_model,\n",
        "                               summarizer_prompt,\n",
        "                               reviewer_prompt,\n",
        "                               debug=True)\n",
        "\n",
        "Image(summary_chatbot.agent.get_graph().draw_mermaid_png())"
      ],
      "metadata": {
        "colab": {
          "base_uri": "https://localhost:8080/",
          "height": 290
        },
        "id": "QSz7m1IM5wOa",
        "outputId": "4bcfe920-b8ce-4226-eea8-fb6b8b351d58"
      },
      "execution_count": 46,
      "outputs": [
        {
          "output_type": "execute_result",
          "data": {
            "image/png": "[encoded data removed]",
            "text/plain": [
              "<IPython.core.display.Image object>"
            ]
          },
          "metadata": {},
          "execution_count": 46
        }
      ]
    },
    {
      "cell_type": "markdown",
      "source": [
        "# Test our Agent"
      ],
      "metadata": {
        "id": "NoooqEcQEYce"
      }
    },
    {
      "cell_type": "code",
      "source": [
        "# Input file for execution\n",
        "# Load, chunk and index the contents of the pdf.\n",
        "loader=PyPDFLoader(\"./data/EcoSprint_Specification_Document.pdf\")\n",
        "docs = loader.load()\n",
        "\n",
        "#Pick the first page of the doc as content\n",
        "source_content=docs[0].page_content.replace(\"\\n\",\" \")\n",
        "print(f\"Input :==============\\n {source_content}\\n\")"
      ],
      "metadata": {
        "colab": {
          "base_uri": "https://localhost:8080/"
        },
        "id": "pfRyGjPu6CZf",
        "outputId": "8afcabce-eb11-417a-c5a5-46a59774e58b"
      },
      "execution_count": 47,
      "outputs": [
        {
          "output_type": "stream",
          "name": "stdout",
          "text": [
            "Input :==============\n",
            " EcoSprint SpecificationDocument 1.Overview● TheEcoSprint isarevolutionaryelectricvehicle(EV)designedforefficiencyandperformance. Withitssleekdesignandstate-of-the-art technology, theEcoSprintappealstoenvironmentallyconsciousdriverswhodon't want tocompromiseonstyleordrivingexperience. Ideal forcitydrivinganddailycommutes, theEcoSprint offersaperfect blendof comfort, sustainability, andinnovation. 2.DesignSpecifications● ExteriorDesign: TheEcoSprint boastsamodernandaerodynamicsilhouette, featuringsmoothlinesandacompact formfactor. AvailableincolorslikeMidnight Black, OceanBlue, andPearl White, it'sahead-turnerontheroad.● InteriorDesign: Inside, theEcoSprint isarealmof comfort andluxury. It offersaspaciouscabinwithseatingforfive, premiumupholstery, andcustomizableambientlighting. 3.PerformanceSpecifications● EngineandMotor: Poweredbyahigh-efficiencyelectricmotor, theEcoSprint delivers200horsepowerand300Nmof torque, providingasmoothandresponsivedrivingexperience.● BatteryandRange: Equippedwitha50kWhlithium-ionbattery, it offersanimpressiverangeof upto250milesonasinglecharge. Chargingisconvenient withoptionsforhome-chargingsetupsandpublicchargingstations.● AccelerationandTopSpeed: Thevehicleacceleratesfrom0to60mphinjust 7.3secondsandhasatopspeedof 120mph. 4.TechnologyandFeatures● Infotainment System: Astate-of-the-art infotainment systemwitha10-inchtouchscreen,voicecontrol, andsmartphoneintegrationforbothAndroidandiOSdevices.● DriverAssistanceSystems: Includesadvancedfeatureslikeadaptivecruisecontrol,lane-keepingassist, andautomaticemergencybraking.● Connectivity: Remotemonitoringandcontrol viaasmartphoneapp, enablingpre-conditioningof thevehicle, chargingstatuschecks, andmore. 5.SafetyandSecurity● SafetyFeatures: High-ratedsafetyfeaturesincludingmultipleairbags, areinforcedframe, andblind-spot monitoring.● SecurityFeatures: Advancedsecuritysystemswithremotelocking/unlocking, GPStracking, andintrusionalarms.\n",
            "\n"
          ]
        }
      ]
    },
    {
      "cell_type": "code",
      "source": [
        "import uuid\n",
        "\n",
        "config = {\"configurable\": {\"thread_id\": str(uuid.uuid4())}}\n",
        "messages=[HumanMessage(content=source_content)]\n",
        "result=summary_chatbot.agent.invoke({\"messages\":messages},config)"
      ],
      "metadata": {
        "colab": {
          "base_uri": "https://localhost:8080/"
        },
        "id": "1qBnre-B7L1c",
        "outputId": "e9ec60e5-80aa-46c1-94fb-64476353877e"
      },
      "execution_count": 48,
      "outputs": [
        {
          "output_type": "stream",
          "name": "stdout",
          "text": [
            "Summarizer: The EcoSprint is an advanced electric vehicle designed for efficiency and performance, featuring a sleek design, spacious luxury interior, and a powerful 200-horsepower motor. It offers up to 250 miles of range, smart technology, and comprehensive safety features, making it ideal for eco-conscious urban drivers.\n",
            "Iteration Number: \n",
            " 1.0\n",
            "********************************** \n",
            " Reviewer: The summary accurately captures the document's essence but misses specific details like selectable colors and acceleration. Including these minor yet notable points could enhance the summary's completeness. Consider emphasizing its unique blend of style, sustainability, and innovation to appeal to potential users better.\n",
            "Summarizer: The EcoSprint is a revolutionary electric vehicle that combines efficiency and performance with sleek design. It offers seating for five, a powerful 200-horsepower motor, up to 250 miles of range, and advanced technology features, making it ideal for eco-conscious urban drivers seeking style and innovation.\n",
            "Iteration Number: \n",
            " 2.0\n",
            "********************************** \n",
            " Reviewer: The summary accurately captures the document's essence but misses specific details like selectable colors and acceleration. Including these minor yet notable points could enhance the summary's completeness. Consider emphasizing its unique blend of style, sustainability, and innovation to appeal to potential users better.\n",
            "Summarizer: The EcoSprint is a revolutionary electric vehicle, boasting a modern design and luxurious interior. It features a powerful 200-horsepower motor, accelerates from 0 to 60 mph in 7.3 seconds, has a range of 250 miles, and includes advanced safety and technology features, catering to eco-conscious urban drivers.\n",
            "Iteration Number: \n",
            " 3.0\n",
            "********************************** \n",
            " Reviewer: The summary accurately reflects the document's key points but could be improved by mentioning specific design details such as the color options. Highlight its appeal to those not wanting to compromise on style or driving experience. This would provide a more comprehensive understanding for potential buyers.\n",
            "Summarizer: The EcoSprint is a groundbreaking electric vehicle with a modern design, spacious interior, and customizable options in colors like Midnight Black and Ocean Blue. It packs a 200-horsepower motor, accelerates from 0 to 60 mph in 7.3 seconds, and offers a 250-mile range, perfect for eco-conscious drivers.\n",
            "Iteration Number: \n",
            " 4.0\n",
            "********************************** \n",
            " Reviewer: The summary captures the core features and specifications well, but including details on advanced technology and safety systems would enhance completeness. Consider specifying features like the 10-inch touchscreen, adaptive cruise control, and remote app functionality to provide a more comprehensive overview.\n",
            "Summarizer: The EcoSprint is an innovative electric vehicle featuring a sleek design, spacious interior with premium options, and high performance. It boasts a 200-horsepower motor, 250-mile range, and accelerates to 60 mph in 7.3 seconds. It also includes advanced tech features like a 10-inch touchscreen and comprehensive safety systems.\n",
            "Iteration Number: \n",
            " 5.0\n"
          ]
        }
      ]
    },
    {
      "cell_type": "markdown",
      "source": [
        "# Add Human feedback element"
      ],
      "metadata": {
        "id": "visrbqKUEkso"
      }
    },
    {
      "cell_type": "code",
      "source": [
        "summary_chatbot = Summarizer_Chatbot(summarizer_model,\n",
        "                                     reviewer_model,\n",
        "                               summarizer_prompt,\n",
        "                               reviewer_prompt,\n",
        "                               debug=False)\n",
        "\n",
        "# Adding user feedback\n",
        "user_inputs = [\n",
        "    source_content,\n",
        "    \"Can you rewrite the review by focusing more on the specifications?\",\n",
        "    \"Can you remove details about the touchscreen?\"\n",
        "]\n",
        "\n",
        "#Create a new thread\n",
        "config = {\"configurable\": {\"thread_id\": \"thread-summarizer\"}}\n",
        "\n",
        "#Given the number of iterations, this will take a long time.\n",
        "for input in user_inputs:\n",
        "    print(f\"----------------------------------------\\nUSER : {input}\")\n",
        "    #Format the user message\n",
        "    user_message = {\"messages\":[HumanMessage(input)]}\n",
        "    #Get response from the agent\n",
        "    ai_response = summary_chatbot.agent.invoke(user_message,config=config)\n",
        "    #Print the response\n",
        "    print(f\"\\nAGENT : {ai_response['messages'][-1].content}\")\n",
        "\n"
      ],
      "metadata": {
        "id": "uAz3T2SW7ona",
        "colab": {
          "base_uri": "https://localhost:8080/"
        },
        "outputId": "918e8c7a-486a-4193-ec46-ceb72ecc3393"
      },
      "execution_count": 49,
      "outputs": [
        {
          "output_type": "stream",
          "name": "stdout",
          "text": [
            "----------------------------------------\n",
            "USER : EcoSprint SpecificationDocument 1.Overview● TheEcoSprint isarevolutionaryelectricvehicle(EV)designedforefficiencyandperformance. Withitssleekdesignandstate-of-the-art technology, theEcoSprintappealstoenvironmentallyconsciousdriverswhodon't want tocompromiseonstyleordrivingexperience. Ideal forcitydrivinganddailycommutes, theEcoSprint offersaperfect blendof comfort, sustainability, andinnovation. 2.DesignSpecifications● ExteriorDesign: TheEcoSprint boastsamodernandaerodynamicsilhouette, featuringsmoothlinesandacompact formfactor. AvailableincolorslikeMidnight Black, OceanBlue, andPearl White, it'sahead-turnerontheroad.● InteriorDesign: Inside, theEcoSprint isarealmof comfort andluxury. It offersaspaciouscabinwithseatingforfive, premiumupholstery, andcustomizableambientlighting. 3.PerformanceSpecifications● EngineandMotor: Poweredbyahigh-efficiencyelectricmotor, theEcoSprint delivers200horsepowerand300Nmof torque, providingasmoothandresponsivedrivingexperience.● BatteryandRange: Equippedwitha50kWhlithium-ionbattery, it offersanimpressiverangeof upto250milesonasinglecharge. Chargingisconvenient withoptionsforhome-chargingsetupsandpublicchargingstations.● AccelerationandTopSpeed: Thevehicleacceleratesfrom0to60mphinjust 7.3secondsandhasatopspeedof 120mph. 4.TechnologyandFeatures● Infotainment System: Astate-of-the-art infotainment systemwitha10-inchtouchscreen,voicecontrol, andsmartphoneintegrationforbothAndroidandiOSdevices.● DriverAssistanceSystems: Includesadvancedfeatureslikeadaptivecruisecontrol,lane-keepingassist, andautomaticemergencybraking.● Connectivity: Remotemonitoringandcontrol viaasmartphoneapp, enablingpre-conditioningof thevehicle, chargingstatuschecks, andmore. 5.SafetyandSecurity● SafetyFeatures: High-ratedsafetyfeaturesincludingmultipleairbags, areinforcedframe, andblind-spot monitoring.● SecurityFeatures: Advancedsecuritysystemswithremotelocking/unlocking, GPStracking, andintrusionalarms.\n",
            "\n",
            "AGENT : The EcoSprint is a cutting-edge electric vehicle designed for efficiency and performance. It features a sleek design in colors like Midnight Black and Ocean Blue, a luxurious interior with customizable ambient lighting, and advanced technology. Key specs include a 200-horsepower motor, acceleration from 0 to 60 mph in 7.3 seconds, a top speed of 120 mph, and a 250-mile range, making it a practical choice for eco-conscious drivers.\n",
            "----------------------------------------\n",
            "USER : Can you rewrite the review by focusing more on the specifications?\n",
            "\n",
            "AGENT : The EcoSprint is an advanced electric vehicle with impressive specifications. It features a high-efficiency electric motor delivering 200 horsepower and 300 Nm of torque, enabling acceleration from 0 to 60 mph in 7.3 seconds and a top speed of 120 mph. The 50 kWh lithium-ion battery provides a range of up to 250 miles on a single charge. The vehicle's modern design is available in colors like Midnight Black, Ocean Blue, and Pearl White, while the interior offers premium upholstery and customizable ambient lighting. Advanced safety features and a state-of-the-art infotainment system round out its standout specifications.\n",
            "----------------------------------------\n",
            "USER : Can you remove details about the touchscreen?\n",
            "\n",
            "AGENT : The EcoSprint is an advanced electric vehicle with impressive specifications. It features a high-efficiency electric motor delivering 200 horsepower and 300 Nm of torque, enabling acceleration from 0 to 60 mph in 7.3 seconds and a top speed of 120 mph. Its 50 kWh lithium-ion battery provides a range of up to 250 miles on a single charge. The vehicle's modern design is available in colors like Midnight Black, Ocean Blue, and Pearl White, while the interior offers premium upholstery and customizable ambient lighting. Advanced safety features and driver assistance systems enhance its appeal.\n"
          ]
        }
      ]
    },
    {
      "cell_type": "code",
      "source": [],
      "metadata": {
        "id": "wSyMCJGsDNDe"
      },
      "execution_count": null,
      "outputs": []
    }
  ]
}